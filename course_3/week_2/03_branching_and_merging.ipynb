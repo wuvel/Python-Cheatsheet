{
  "nbformat": 4,
  "nbformat_minor": 0,
  "metadata": {
    "colab": {
      "name": "Untitled0.ipynb",
      "provenance": []
    },
    "kernelspec": {
      "name": "python3",
      "display_name": "Python 3"
    }
  },
  "cells": [
    {
      "cell_type": "markdown",
      "metadata": {
        "id": "U3AVhcVodWXU"
      },
      "source": [
        "# **Practice Quiz: Branching & Merging**\r\n",
        "\r\n",
        "\r\n",
        "---\r\n",
        "\r\n"
      ]
    },
    {
      "cell_type": "markdown",
      "metadata": {
        "id": "cW26w3nYdely"
      },
      "source": [
        "#### 1. When we merge two branches, one of two algorithms is used. If the branches have diverged, which algorithm is used?\r\n",
        "\r\n"
      ]
    },
    {
      "cell_type": "markdown",
      "metadata": {
        "id": "pOw0TUsdZM26"
      },
      "source": [
        "`three-way merge`. A three-way-mergeoccurs when the two commits have diverged previously, and a new commit is created."
      ]
    },
    {
      "cell_type": "markdown",
      "metadata": {
        "id": "bAaDaynijIFL"
      },
      "source": [
        "#### 2. The following code snippet represents the result of a merge conflict. Edit the code to fix the conflict and keep the version represented by the current branch."
      ]
    },
    {
      "cell_type": "code",
      "metadata": {
        "colab": {
          "base_uri": "https://localhost:8080/"
        },
        "id": "z8RdBGHPrh2T",
        "outputId": "3969ba72-c065-49ca-8118-3b1bd0312a8d"
      },
      "source": [
        "# Before\r\n",
        "\r\n",
        "# <<<<<<< HEAD         \r\n",
        "# print(\"Keep me!\")\r\n",
        "# =======\r\n",
        "# print(\"No, keep me instead!\")\r\n",
        "# >>>>>>> brancho-cucamonga\r\n",
        "\r\n",
        "# After\r\n",
        "\r\n",
        "print(\"Keep me!\")"
      ],
      "execution_count": 1,
      "outputs": [
        {
          "output_type": "stream",
          "text": [
            "Keep me!\n"
          ],
          "name": "stdout"
        }
      ]
    },
    {
      "cell_type": "markdown",
      "metadata": {
        "id": "XvoEo5i-jQGC"
      },
      "source": [
        "#### 3. What command would we use to throw away a merge, and start over? "
      ]
    },
    {
      "cell_type": "markdown",
      "metadata": {
        "id": "n4q_oXWnw41j"
      },
      "source": [
        "`git merge --abort`. If there are merge conflicts, the --abort flag can be used to abort the merge action."
      ]
    },
    {
      "cell_type": "markdown",
      "metadata": {
        "id": "lukL170ojmHO"
      },
      "source": [
        "#### 4. How do we display a summarized view of the commit history for a repo, showing one line per commit? "
      ]
    },
    {
      "cell_type": "markdown",
      "metadata": {
        "id": "PmM9_4xduLFU"
      },
      "source": [
        "`git log --graph --oneline`. The commandgit log --graph --oneline shows a summarized view of the commit history for a repo."
      ]
    },
    {
      "cell_type": "markdown",
      "metadata": {
        "id": "IhtrNGOhjsd_"
      },
      "source": [
        "#### 5. The following script contains the result of a merge conflict. Edit the code to fix the conflict, so that both versions are included."
      ]
    },
    {
      "cell_type": "code",
      "metadata": {
        "colab": {
          "base_uri": "https://localhost:8080/"
        },
        "id": "S9jfgUOLrzPK",
        "outputId": "9e4d0237-1a82-425b-bf09-525d1af6695c"
      },
      "source": [
        "#  Before \r\n",
        "\r\n",
        "# def main():\r\n",
        "# <<<<<<< HEAD\r\n",
        "#     print(\"Start of program>>>>>>>\")\r\n",
        "# =======\r\n",
        "#     print(\"End of program!\")\r\n",
        "# >>>>>>> improvement-to-the-code\r\n",
        "\r\n",
        "# main()\r\n",
        "\r\n",
        "# After\r\n",
        "def main():\r\n",
        "    print(\"Start of program>>>>>>>\")\r\n",
        "    print(\"End of program!\")\r\n",
        "main()"
      ],
      "execution_count": 2,
      "outputs": [
        {
          "output_type": "stream",
          "text": [
            "Start of program>>>>>>>\n",
            "End of program!\n"
          ],
          "name": "stdout"
        }
      ]
    }
  ]
}