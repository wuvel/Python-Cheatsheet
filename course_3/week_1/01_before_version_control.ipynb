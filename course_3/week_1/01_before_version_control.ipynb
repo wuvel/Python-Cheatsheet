{
  "nbformat": 4,
  "nbformat_minor": 0,
  "metadata": {
    "colab": {
      "name": "Untitled0.ipynb",
      "provenance": []
    },
    "kernelspec": {
      "name": "python3",
      "display_name": "Python 3"
    }
  },
  "cells": [
    {
      "cell_type": "markdown",
      "metadata": {
        "id": "U3AVhcVodWXU"
      },
      "source": [
        "# **Practice Quiz: Before Version Control**\r\n",
        "\r\n",
        "\r\n",
        "---\r\n",
        "\r\n"
      ]
    },
    {
      "cell_type": "markdown",
      "metadata": {
        "id": "cW26w3nYdely"
      },
      "source": [
        "#### 1. Your colleague sent you a patch called fix_names.patch, which fixes a config file called fix_names.conf. What command do you need to run to apply the patch to the config file?"
      ]
    },
    {
      "cell_type": "markdown",
      "metadata": {
        "id": "pOw0TUsdZM26"
      },
      "source": [
        "`patch fix_names.conf < fix_names.patch`. The patch command with the file to be patched, followed by the filename of the patch, will apply it."
      ]
    },
    {
      "cell_type": "markdown",
      "metadata": {
        "id": "bAaDaynijIFL"
      },
      "source": [
        "#### 2. You're helping a friend with a bug in a script called fix_permissions.py, which fixes the permissions of a bunch of files. To work on the file, you make a copy and call it fix_permissions_modified.py. What command do you need to run after solving the bug to send the patch to your friend?"
      ]
    },
    {
      "cell_type": "markdown",
      "metadata": {
        "id": "8qTlftDMZR7S"
      },
      "source": [
        "`diff fix_permissions.py fix_permissions_modified.py > fix_permissions.patch`. The diff command will allow us to compare and apply the differences between the files."
      ]
    },
    {
      "cell_type": "markdown",
      "metadata": {
        "id": "XvoEo5i-jQGC"
      },
      "source": [
        "#### 3. The _____ commandhighlights the words that changed in a file instead of working line by line."
      ]
    },
    {
      "cell_type": "markdown",
      "metadata": {
        "id": "n4q_oXWnw41j"
      },
      "source": [
        "`wdiff`. The wdiff command highlights the words that changed in a file by color, in addition to working line by line."
      ]
    },
    {
      "cell_type": "markdown",
      "metadata": {
        "id": "lukL170ojmHO"
      },
      "source": [
        "#### 4. How can we choose the return value our script returns when it finishes?"
      ]
    },
    {
      "cell_type": "markdown",
      "metadata": {
        "id": "PmM9_4xduLFU"
      },
      "source": [
        "`Using the exit command from the sys module`. A script can use sys.exit to finish processing and return the number passed as an argument as the script's return code."
      ]
    },
    {
      "cell_type": "markdown",
      "metadata": {
        "id": "IhtrNGOhjsd_"
      },
      "source": [
        "#### 5. In addition to the original files, what else do we need before we can use the patch command?"
      ]
    },
    {
      "cell_type": "markdown",
      "metadata": {
        "id": "Dfg0V8AkZhrw"
      },
      "source": [
        "`diff file`. We need to use the patch command with the diff file to apply new changes to the original file."
      ]
    }
  ]
}