{
  "nbformat": 4,
  "nbformat_minor": 0,
  "metadata": {
    "colab": {
      "name": "Untitled0.ipynb",
      "provenance": []
    },
    "kernelspec": {
      "name": "python3",
      "display_name": "Python 3"
    }
  },
  "cells": [
    {
      "cell_type": "markdown",
      "metadata": {
        "id": "U3AVhcVodWXU"
      },
      "source": [
        "# **Practice Quiz: Version Control Systems**\r\n",
        "\r\n",
        "\r\n",
        "---\r\n",
        "\r\n"
      ]
    },
    {
      "cell_type": "markdown",
      "metadata": {
        "id": "cW26w3nYdely"
      },
      "source": [
        "#### 1. How can a VCS (Version Control System) come in handy when updating your software, even if you’re a solo programmer? Check all that apply."
      ]
    },
    {
      "cell_type": "markdown",
      "metadata": {
        "id": "pOw0TUsdZM26"
      },
      "source": [
        "- `Git retains local copies of repositories, resulting in fast operations`. Git's distributed architecture means each person contributing to a repository retains a full copy of the repository locally.\r\n",
        "- `If something breaks due to a change, you can fix the problem by reverting to a working version before the change`. With version control, if something goes wrong, we can fix it immediately and figure out what happened later.\r\n",
        "- `Git allows you to review the history of your project`. "
      ]
    },
    {
      "cell_type": "markdown",
      "metadata": {
        "id": "bAaDaynijIFL"
      },
      "source": [
        "#### 2. Who is the original creator and main developer of the VCS (Version Control System) tool Git?"
      ]
    },
    {
      "cell_type": "markdown",
      "metadata": {
        "id": "8qTlftDMZR7S"
      },
      "source": [
        "`Linus Torvalds`. Linus Torvalds developed Git in 2005 to better facilitate the process of developing the Linux kernel with developers across the globe."
      ]
    },
    {
      "cell_type": "markdown",
      "metadata": {
        "id": "XvoEo5i-jQGC"
      },
      "source": [
        "#### 3. _____ is a feature of a software management system that records changes to a file or set of files over time so that you can recall specific versions later."
      ]
    },
    {
      "cell_type": "markdown",
      "metadata": {
        "id": "n4q_oXWnw41j"
      },
      "source": [
        "`Version control`. A version control system keeps track of the changes that we make to our files."
      ]
    },
    {
      "cell_type": "markdown",
      "metadata": {
        "id": "lukL170ojmHO"
      },
      "source": [
        "#### 4. A _____ is a collection of edits which has been submitted to the version control system for safe keeping."
      ]
    },
    {
      "cell_type": "markdown",
      "metadata": {
        "id": "PmM9_4xduLFU"
      },
      "source": [
        "`commit`. We call the collection of edits we are making at one time a commit."
      ]
    },
    {
      "cell_type": "markdown",
      "metadata": {
        "id": "IhtrNGOhjsd_"
      },
      "source": [
        "#### 5. Within a VCS, project files are organized in centralized locations called _____ where they can be called upon later."
      ]
    },
    {
      "cell_type": "markdown",
      "metadata": {
        "id": "Dfg0V8AkZhrw"
      },
      "source": [
        "`repositories`. A repository is a central location in which data is stored and managed."
      ]
    }
  ]
}