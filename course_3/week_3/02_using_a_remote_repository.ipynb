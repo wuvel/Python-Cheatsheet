{
  "nbformat": 4,
  "nbformat_minor": 0,
  "metadata": {
    "colab": {
      "name": "Untitled0.ipynb",
      "provenance": []
    },
    "kernelspec": {
      "name": "python3",
      "display_name": "Python 3"
    }
  },
  "cells": [
    {
      "cell_type": "markdown",
      "metadata": {
        "id": "U3AVhcVodWXU"
      },
      "source": [
        "# **Practice Quiz: Using a Remote Repository**\r\n",
        "\r\n",
        "\r\n",
        "---\r\n",
        "\r\n"
      ]
    },
    {
      "cell_type": "markdown",
      "metadata": {
        "id": "cW26w3nYdely"
      },
      "source": [
        "#### 1. In order to get the contents of a remote branch without automatically merging, which of these commands should we use?\r\n",
        "\r\n"
      ]
    },
    {
      "cell_type": "markdown",
      "metadata": {
        "id": "pOw0TUsdZM26"
      },
      "source": [
        "`git remote update`. git remote update will fetch the contents of all remote branches and allow us to merge the contents ourselves."
      ]
    },
    {
      "cell_type": "markdown",
      "metadata": {
        "id": "bAaDaynijIFL"
      },
      "source": [
        "#### 2. If we need to find more information about a remote branch, which command will help us?"
      ]
    },
    {
      "cell_type": "markdown",
      "metadata": {
        "id": "YxA7v8rs4XSW"
      },
      "source": [
        "`git remote show origin`. If you want to see more information about a particular remote branch, you can use the git remote show command. Don't forget the commit ID!"
      ]
    },
    {
      "cell_type": "markdown",
      "metadata": {
        "id": "XvoEo5i-jQGC"
      },
      "source": [
        "#### 3. What command will download remote branches from remote repositories without merging the content with your current workspace automatically?"
      ]
    },
    {
      "cell_type": "markdown",
      "metadata": {
        "id": "n4q_oXWnw41j"
      },
      "source": [
        "`git fetch`. git fetch will download remote updates, such as objects and refs, from the remote branch."
      ]
    },
    {
      "cell_type": "markdown",
      "metadata": {
        "id": "lukL170ojmHO"
      },
      "source": [
        "#### 4. What type of merge creates a new merge commit?"
      ]
    },
    {
      "cell_type": "markdown",
      "metadata": {
        "id": "PmM9_4xduLFU"
      },
      "source": [
        "`Explicit Merge`. An explicit merge creates a new merge commit. This alters the commit history and explicitly shows where a merge was executed."
      ]
    },
    {
      "cell_type": "markdown",
      "metadata": {
        "id": "V2KCU9oLFPEZ"
      },
      "source": [
        "#### 5. What method of getting remote contents will automatically merge the remote branch with the current local branch?"
      ]
    },
    {
      "cell_type": "markdown",
      "metadata": {
        "id": "vZkBOca0FR40"
      },
      "source": [
        "`git pull`. git pull automatically merges the remote branch with the current branch."
      ]
    }
  ]
}