{
  "nbformat": 4,
  "nbformat_minor": 0,
  "metadata": {
    "colab": {
      "name": "Untitled0.ipynb",
      "provenance": []
    },
    "kernelspec": {
      "name": "python3",
      "display_name": "Python 3"
    }
  },
  "cells": [
    {
      "cell_type": "markdown",
      "metadata": {
        "id": "U3AVhcVodWXU"
      },
      "source": [
        "# **Practice Quiz: Solving Conflicts**\r\n",
        "\r\n",
        "\r\n",
        "---\r\n",
        "\r\n"
      ]
    },
    {
      "cell_type": "markdown",
      "metadata": {
        "id": "cW26w3nYdely"
      },
      "source": [
        "#### 1. If you’re making changes to a local branch while another user has also made changes to the remote branch, which command will trigger a merge?\r\n",
        "\r\n"
      ]
    },
    {
      "cell_type": "markdown",
      "metadata": {
        "id": "pOw0TUsdZM26"
      },
      "source": [
        "`git pull`. The git pull command runs git fetch with the given parameters, then calls git merge to merge the retrieved branch heads into the current branch."
      ]
    },
    {
      "cell_type": "markdown",
      "metadata": {
        "id": "bAaDaynijIFL"
      },
      "source": [
        "#### 2. Which of the following is a reason to use rebase instead of merging? "
      ]
    },
    {
      "cell_type": "markdown",
      "metadata": {
        "id": "YxA7v8rs4XSW"
      },
      "source": [
        "`When you want to keep a linear commit history`. git rebase is useful for maintaining a clean, linear commit history."
      ]
    },
    {
      "cell_type": "markdown",
      "metadata": {
        "id": "XvoEo5i-jQGC"
      },
      "source": [
        "#### 3. Where should we keep the latest stable version of the project?"
      ]
    },
    {
      "cell_type": "markdown",
      "metadata": {
        "id": "n4q_oXWnw41j"
      },
      "source": [
        "`A separate branch from the master branch`. It's common practice to keep the latest version in the master branch and the latest stable version in a separate branch."
      ]
    },
    {
      "cell_type": "markdown",
      "metadata": {
        "id": "lukL170ojmHO"
      },
      "source": [
        "#### 4. Which of the following statements represent best practices for collaboration? (check all that apply)"
      ]
    },
    {
      "cell_type": "markdown",
      "metadata": {
        "id": "PmM9_4xduLFU"
      },
      "source": [
        "- `When working on a big change, it makes sense to have a separate feature branch`. This lets you work on new changes, while still enabling you to fix bugs in the other branch.\r\n",
        "- `Always synchronize your branches before starting any work on your own`. That way, whenever you start changing code, you know that you're starting from the most recent version, and you minimize the chances of conflicts or the need for rebasing.\r\n",
        "- `Avoid having very large changes that modify a lot of different things`. Instead, try to make changes as small as possible, as long as they’re self-contained."
      ]
    },
    {
      "cell_type": "markdown",
      "metadata": {
        "id": "V2KCU9oLFPEZ"
      },
      "source": [
        "#### 5. What command would we use to change the base of the current branch?"
      ]
    },
    {
      "cell_type": "markdown",
      "metadata": {
        "id": "vZkBOca0FR40"
      },
      "source": [
        "`git rebase <branchname>`. You can also use git rebase <branchname> to change the base of the current branch to be <branchname>."
      ]
    }
  ]
}