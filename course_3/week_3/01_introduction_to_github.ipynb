{
  "nbformat": 4,
  "nbformat_minor": 0,
  "metadata": {
    "colab": {
      "name": "Untitled0.ipynb",
      "provenance": []
    },
    "kernelspec": {
      "name": "python3",
      "display_name": "Python 3"
    }
  },
  "cells": [
    {
      "cell_type": "markdown",
      "metadata": {
        "id": "U3AVhcVodWXU"
      },
      "source": [
        "# **Practice Quiz: Introduction to GitHub**\r\n",
        "\r\n",
        "\r\n",
        "---\r\n",
        "\r\n"
      ]
    },
    {
      "cell_type": "markdown",
      "metadata": {
        "id": "cW26w3nYdely"
      },
      "source": [
        "#### 1. When we want to update our local repository to reflect changes made in the remote repository, which command would we use?\r\n",
        "\r\n"
      ]
    },
    {
      "cell_type": "markdown",
      "metadata": {
        "id": "pOw0TUsdZM26"
      },
      "source": [
        "`git pull`. git pull updates the local repository by applying changes made in the remote repository."
      ]
    },
    {
      "cell_type": "markdown",
      "metadata": {
        "id": "bAaDaynijIFL"
      },
      "source": [
        "#### 2. git config --global credential.helper cache allows us to configure the credential helper, which is used for ...what?"
      ]
    },
    {
      "cell_type": "markdown",
      "metadata": {
        "id": "YxA7v8rs4XSW"
      },
      "source": [
        "`Allowing automated login to GitHub`. By configuring the credential helper, we can avoid having to type in our username and password repeatedly."
      ]
    },
    {
      "cell_type": "markdown",
      "metadata": {
        "id": "XvoEo5i-jQGC"
      },
      "source": [
        "#### 3. Name two ways to avoid having to enter our password when retrieving and when pushing changes to the repo. (Check all that apply)"
      ]
    },
    {
      "cell_type": "markdown",
      "metadata": {
        "id": "n4q_oXWnw41j"
      },
      "source": [
        "- `Use a credential helper`. The credential helper caches our credentials for a time window, so that we don't need to enter our password with every interaction.\r\n",
        "- `Create an SSH key-pair`. We can create an SSH key-pair and store the public key in our profile, so that GitHub recognizes our computer."
      ]
    },
    {
      "cell_type": "markdown",
      "metadata": {
        "id": "lukL170ojmHO"
      },
      "source": [
        "#### 4. Name the command that gathers all the snapshots we've taken and sends them to the remote repository."
      ]
    },
    {
      "cell_type": "markdown",
      "metadata": {
        "id": "PmM9_4xduLFU"
      },
      "source": [
        "`git push`. git push is used to update the remote repository with our local changes."
      ]
    }
  ]
}