{
  "nbformat": 4,
  "nbformat_minor": 0,
  "metadata": {
    "colab": {
      "name": "Untitled0.ipynb",
      "provenance": []
    },
    "kernelspec": {
      "name": "python3",
      "display_name": "Python 3"
    }
  },
  "cells": [
    {
      "cell_type": "markdown",
      "metadata": {
        "id": "U3AVhcVodWXU"
      },
      "source": [
        "# **Practice Quiz: Code Reviews**\r\n",
        "\r\n",
        "\r\n",
        "---\r\n",
        "\r\n"
      ]
    },
    {
      "cell_type": "markdown",
      "metadata": {
        "id": "cW26w3nYdely"
      },
      "source": [
        "#### 1. When should we respond to comments from collaborators and reviewers?\r\n",
        "\r\n"
      ]
    },
    {
      "cell_type": "markdown",
      "metadata": {
        "id": "pOw0TUsdZM26"
      },
      "source": [
        "`Always`. It is good manners and proper conduct to respond, even when it's simply an acknowledgement."
      ]
    },
    {
      "cell_type": "markdown",
      "metadata": {
        "id": "bAaDaynijIFL"
      },
      "source": [
        "#### 2. What is a nit?"
      ]
    },
    {
      "cell_type": "markdown",
      "metadata": {
        "id": "YxA7v8rs4XSW"
      },
      "source": [
        "`A trivial comment or suggestion`. In git jargon (and elsewhere in the tech world), a nit is a minor “nitpick” about a piece of code."
      ]
    },
    {
      "cell_type": "markdown",
      "metadata": {
        "id": "XvoEo5i-jQGC"
      },
      "source": [
        "#### 3. Select common code issues that might be addressed in a code review. (Check all that apply)"
      ]
    },
    {
      "cell_type": "markdown",
      "metadata": {
        "id": "n4q_oXWnw41j"
      },
      "source": [
        "- `Using unclear names`. Unclear names can make our code hard to understand.\r\n",
        "- `Forgetting to handle a specific condition`. If there is a specific condition that could cause a problem and we don't address it, the result could be catastrophic.\r\n",
        "- `Forgetting to add tests`. Tests are an important addition to our code to ensure it runs smoothly."
      ]
    },
    {
      "cell_type": "markdown",
      "metadata": {
        "id": "lukL170ojmHO"
      },
      "source": [
        "#### 4. If we've pushed a new version since we've made a recent change, what might our comment be flagged as?"
      ]
    },
    {
      "cell_type": "markdown",
      "metadata": {
        "id": "PmM9_4xduLFU"
      },
      "source": [
        "`outdated`. If we push a new version after making a change, old comments are marked with the \"Outdated\" flag."
      ]
    },
    {
      "cell_type": "markdown",
      "metadata": {
        "id": "V2KCU9oLFPEZ"
      },
      "source": [
        "#### 5. What are the goals of code review? (Check all that apply)"
      ]
    },
    {
      "cell_type": "markdown",
      "metadata": {
        "id": "vZkBOca0FR40"
      },
      "source": [
        "- `Make sure that the contents are easy to understand`. By reviewing our code, we can identify where we can make our code more clear and easy to understand.\r\n",
        "- `Ensure consistent style`. By comparing our code to style guidelines, we can keep our style consistent and readable.\r\n",
        "- `Ensure we don't forget any important cases`. Code review can reveal cases or conditions we need to handle in our code."
      ]
    }
  ]
}