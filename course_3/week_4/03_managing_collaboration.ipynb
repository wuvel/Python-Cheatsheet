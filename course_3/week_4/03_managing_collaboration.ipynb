{
  "nbformat": 4,
  "nbformat_minor": 0,
  "metadata": {
    "colab": {
      "name": "Untitled0.ipynb",
      "provenance": []
    },
    "kernelspec": {
      "name": "python3",
      "display_name": "Python 3"
    }
  },
  "cells": [
    {
      "cell_type": "markdown",
      "metadata": {
        "id": "U3AVhcVodWXU"
      },
      "source": [
        "# **Practice Quiz: Managing Collaboration**\r\n",
        "\r\n",
        "\r\n",
        "---\r\n",
        "\r\n"
      ]
    },
    {
      "cell_type": "markdown",
      "metadata": {
        "id": "cW26w3nYdely"
      },
      "source": [
        "#### 1. How do we reference issues in our commits with automatic links?\r\n"
      ]
    },
    {
      "cell_type": "markdown",
      "metadata": {
        "id": "pOw0TUsdZM26"
      },
      "source": [
        "`By using one of the keywords followed by a hashtag and the issue number`. Keywords such as **closes** or **resolves** followed by a hashtag and the issue number will tell Git to autolink to the issue with the provided ID number."
      ]
    },
    {
      "cell_type": "markdown",
      "metadata": {
        "id": "bAaDaynijIFL"
      },
      "source": [
        "#### 2. What is an artifact in terms of continuous integration/continuous delivery (CI/CD) pipelines?"
      ]
    },
    {
      "cell_type": "markdown",
      "metadata": {
        "id": "YxA7v8rs4XSW"
      },
      "source": [
        "`Any file generated as part of the CI/CD pipeline`. Artifacts can include compiled code, test results, logs, or any type of file generated as part of the pipeline."
      ]
    },
    {
      "cell_type": "markdown",
      "metadata": {
        "id": "XvoEo5i-jQGC"
      },
      "source": [
        "#### 3. Which of the following statements are good advice for project maintainers? (Check all that apply)"
      ]
    },
    {
      "cell_type": "markdown",
      "metadata": {
        "id": "n4q_oXWnw41j"
      },
      "source": [
        "- `Reply promptly to pull-requests`. The more time that passes until a pull-request gets reviewed, the more likely it is that there's a new commit that causes a conflict when you try to merge in the change.\r\n",
        "- `Understand any changes you accept`. Not only do we not know whether the original coder is going to be around to maintain those functions, we also want to avoid feature creep and unmanageable code.\r\n",
        "- `Use an issue tracker`. The larger our project grows, the more useful an issue tracker can be for collaborating."
      ]
    },
    {
      "cell_type": "markdown",
      "metadata": {
        "id": "lukL170ojmHO"
      },
      "source": [
        "#### 4. Which statement best represents what a Continuous Integration system will do?"
      ]
    },
    {
      "cell_type": "markdown",
      "metadata": {
        "id": "PmM9_4xduLFU"
      },
      "source": [
        "`Run tests automatically`. A continuous integration system will build and test our code every time there's a change. "
      ]
    },
    {
      "cell_type": "markdown",
      "metadata": {
        "id": "V2KCU9oLFPEZ"
      },
      "source": [
        "#### 5. Which statement best represents what a Continuous Delivery (CD) system will do?"
      ]
    },
    {
      "cell_type": "markdown",
      "metadata": {
        "id": "vZkBOca0FR40"
      },
      "source": [
        "`Update with incremental rollouts`. Continuous Delivery means new code is often deployed with the goal of avoiding rollouts with lots of changes between two versions."
      ]
    }
  ]
}