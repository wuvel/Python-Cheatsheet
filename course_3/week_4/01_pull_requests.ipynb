{
  "nbformat": 4,
  "nbformat_minor": 0,
  "metadata": {
    "colab": {
      "name": "Untitled0.ipynb",
      "provenance": []
    },
    "kernelspec": {
      "name": "python3",
      "display_name": "Python 3"
    }
  },
  "cells": [
    {
      "cell_type": "markdown",
      "metadata": {
        "id": "U3AVhcVodWXU"
      },
      "source": [
        "# **Practice Quiz: Pull Requests**\r\n",
        "\r\n",
        "\r\n",
        "---\r\n",
        "\r\n"
      ]
    },
    {
      "cell_type": "markdown",
      "metadata": {
        "id": "cW26w3nYdely"
      },
      "source": [
        "#### 1. What is the difference between using squash and fixup when rebasing?\r\n",
        "\r\n"
      ]
    },
    {
      "cell_type": "markdown",
      "metadata": {
        "id": "pOw0TUsdZM26"
      },
      "source": [
        "`Squash combines the commit messages into one. Fixup discards the new commit message`. The fixup operation will keep the original message and discard the message from the fixup commit, while squash combines them."
      ]
    },
    {
      "cell_type": "markdown",
      "metadata": {
        "id": "bAaDaynijIFL"
      },
      "source": [
        "#### 2. What is a pull request?"
      ]
    },
    {
      "cell_type": "markdown",
      "metadata": {
        "id": "YxA7v8rs4XSW"
      },
      "source": [
        "`A request sent to the owner and collaborators of the target repository to pull your recent changes`. You send a pull request to the owner of the repository in order for them to incorporate it into their tree."
      ]
    },
    {
      "cell_type": "markdown",
      "metadata": {
        "id": "XvoEo5i-jQGC"
      },
      "source": [
        "#### 3. Under what circumstances is a new fork created?"
      ]
    },
    {
      "cell_type": "markdown",
      "metadata": {
        "id": "n4q_oXWnw41j"
      },
      "source": [
        "`When you want to experiment with changes without affecting the main repository`. For instance, when you want to propose changes to someone else's project, or base your own project off of theirs."
      ]
    },
    {
      "cell_type": "markdown",
      "metadata": {
        "id": "lukL170ojmHO"
      },
      "source": [
        "#### 4. What combination of command and flags will force Git to push the current snapshot to the repo as it is, possibly resulting in permanent data loss?"
      ]
    },
    {
      "cell_type": "markdown",
      "metadata": {
        "id": "PmM9_4xduLFU"
      },
      "source": [
        "`git push -f`. git push with the -f flag forcibly replaces the old commits with the new one and forces Git to push the current snapshot to the repo as it is. This can be dangerous as it can lead to remote changes being permanently lost and is not recommended unless you're pushing fixes to your own fork (nobody else is using it) such as in the case after doing interactive rebasing to squash multiple commits into one as demonstrated."
      ]
    },
    {
      "cell_type": "markdown",
      "metadata": {
        "id": "V2KCU9oLFPEZ"
      },
      "source": [
        "#### 5. When using interactive rebase, which option is the default, and takes the commits and rebases them against the branch we selected?"
      ]
    },
    {
      "cell_type": "markdown",
      "metadata": {
        "id": "vZkBOca0FR40"
      },
      "source": [
        "`pick`. The pick keyword takes the commits and rebases them against the branch we have chosen."
      ]
    }
  ]
}