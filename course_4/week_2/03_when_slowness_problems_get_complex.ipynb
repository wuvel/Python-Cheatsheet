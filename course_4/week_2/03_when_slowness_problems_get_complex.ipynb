{
  "nbformat": 4,
  "nbformat_minor": 0,
  "metadata": {
    "colab": {
      "name": "Untitled0.ipynb",
      "provenance": []
    },
    "kernelspec": {
      "name": "python3",
      "display_name": "Python 3"
    }
  },
  "cells": [
    {
      "cell_type": "markdown",
      "metadata": {
        "id": "U3AVhcVodWXU"
      },
      "source": [
        "# **Practice Quiz: When Slowness Problems Get Complex**\r\n",
        "\r\n",
        "\r\n",
        "---\r\n",
        "\r\n"
      ]
    },
    {
      "cell_type": "markdown",
      "metadata": {
        "id": "cW26w3nYdely"
      },
      "source": [
        "#### 1. Which of the following can cache database queries in memory for faster processing of automated tasks?"
      ]
    },
    {
      "cell_type": "markdown",
      "metadata": {
        "id": "pOw0TUsdZM26"
      },
      "source": [
        "`Memcached`. Memchached is a caching service that keeps most commonly accessed database queries in RAM."
      ]
    },
    {
      "cell_type": "markdown",
      "metadata": {
        "id": "bAaDaynijIFL"
      },
      "source": [
        "#### 2. What module specifies parts of a code to run in separate asynchronous events?"
      ]
    },
    {
      "cell_type": "markdown",
      "metadata": {
        "id": "ZMT3lPyNX0RQ"
      },
      "source": [
        "`Asyncio`. Asyncio is a module that lets you specify parts of the code to run as separate asynchronous events."
      ]
    },
    {
      "cell_type": "markdown",
      "metadata": {
        "id": "XvoEo5i-jQGC"
      },
      "source": [
        "#### 3. Which of the following allows our program to run multiple instructions in parallel?"
      ]
    },
    {
      "cell_type": "markdown",
      "metadata": {
        "id": "9LLXBJ1ZX5tv"
      },
      "source": [
        "`Threading`. Threading allows a process to split itself into parallel tasks."
      ]
    },
    {
      "cell_type": "markdown",
      "metadata": {
        "id": "lukL170ojmHO"
      },
      "source": [
        "#### 4. What is the name of the field of study in computer science that concerns itself with writing programs and operations that run in parallel efficiently?"
      ]
    },
    {
      "cell_type": "markdown",
      "metadata": {
        "id": "PmM9_4xduLFU"
      },
      "source": [
        "`Concurrency`. Concurrency in computer science is the ability of different sections or units of a program, algorithm, or problem to be executed out of order or in partial order, without impacting the final result."
      ]
    },
    {
      "cell_type": "markdown",
      "metadata": {
        "id": "V2KCU9oLFPEZ"
      },
      "source": [
        "#### 5. What would we call a program that often leaves our CPU with little to do as it waits on data from a local disk and the Internet?"
      ]
    },
    {
      "cell_type": "markdown",
      "metadata": {
        "id": "izQmFJ6RYE6p"
      },
      "source": [
        "`I/O bound`. If our program mainly finds itself waiting on local disks or the network, it is I/O bound. "
      ]
    }
  ]
}