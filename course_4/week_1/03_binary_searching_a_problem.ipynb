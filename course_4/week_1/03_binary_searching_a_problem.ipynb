{
  "nbformat": 4,
  "nbformat_minor": 0,
  "metadata": {
    "colab": {
      "name": "Untitled0.ipynb",
      "provenance": []
    },
    "kernelspec": {
      "name": "python3",
      "display_name": "Python 3"
    }
  },
  "cells": [
    {
      "cell_type": "markdown",
      "metadata": {
        "id": "U3AVhcVodWXU"
      },
      "source": [
        "# **Practice Quiz: Binary Searching a Problem**\r\n",
        "\r\n",
        "\r\n",
        "---\r\n",
        "\r\n"
      ]
    },
    {
      "cell_type": "markdown",
      "metadata": {
        "id": "cW26w3nYdely"
      },
      "source": [
        "#### 1. You have a list of computers that a script connects to in order to gather SNMP traffic and calculate an average for a set of metrics. The script is now failing, and you do not know which remote computer is the problem. How would you troubleshoot this issue using the bisecting methodology?\r\n"
      ]
    },
    {
      "cell_type": "markdown",
      "metadata": {
        "id": "pOw0TUsdZM26"
      },
      "source": [
        "`Run the script with the first half of the computers`. Bisecting when troubleshooting starts with splitting the list of computers and choosing to run the script with one half."
      ]
    },
    {
      "cell_type": "markdown",
      "metadata": {
        "id": "bAaDaynijIFL"
      },
      "source": [
        "#### 2. The find_item function uses binary search to recursively locate an item in the list, returning True if found, False otherwise. Something is missing from this function. Can you spot what it is and fix it? Add debug lines where appropriate, to help narrow down the problem."
      ]
    },
    {
      "cell_type": "code",
      "metadata": {
        "colab": {
          "base_uri": "https://localhost:8080/"
        },
        "id": "PdB6oqi_QOpi",
        "outputId": "3b5df654-9c7c-4b84-ac12-af895c94ff20"
      },
      "source": [
        "def find_item(list, item):\r\n",
        "  list = sorted(list)\r\n",
        "  #Returns True if the item is in the list, False if not.\r\n",
        "  if len(list) == 0:\r\n",
        "    return False\r\n",
        "\r\n",
        "  #Is the item in the center of the list?\r\n",
        "  middle = len(list)//2\r\n",
        "  if list[middle] == item:\r\n",
        "    return True\r\n",
        "\r\n",
        "  #Is the item in the first half of the list? \r\n",
        "  if item < list[middle]:\r\n",
        "    #Call the function with the first half of the list\r\n",
        "    return find_item(list[:middle], item)\r\n",
        "  else:\r\n",
        "    #Call the function with the second half of the list\r\n",
        "    return find_item(list[middle+1:], item)\r\n",
        "\r\n",
        "  return False\r\n",
        "\r\n",
        "#Do not edit below this line - This code helps check your work!\r\n",
        "list_of_names = [\"Parker\", \"Drew\", \"Cameron\", \"Logan\", \"Alex\", \"Chris\", \"Terry\", \"Jamie\", \"Jordan\", \"Taylor\"]\r\n",
        "\r\n",
        "print(find_item(list_of_names, \"Alex\")) # True\r\n",
        "print(find_item(list_of_names, \"Andrew\")) # False\r\n",
        "print(find_item(list_of_names, \"Drew\")) # True\r\n",
        "print(find_item(list_of_names, \"Jared\")) # False"
      ],
      "execution_count": 3,
      "outputs": [
        {
          "output_type": "stream",
          "text": [
            "True\n",
            "False\n",
            "True\n",
            "False\n"
          ],
          "name": "stdout"
        }
      ]
    },
    {
      "cell_type": "markdown",
      "metadata": {
        "id": "XvoEo5i-jQGC"
      },
      "source": [
        "#### 3. The binary_search function returns the position of key in the list if found, or -1 if not found. We want to make sure that it's working correctly, so we need to place debugging lines to let us know each time that the list is cut in half, whether we're on the left or the right. Nothing needs to be printed when the key has been located.<br><br>For example, binary_search([1, 2, 3, 4, 5, 6, 7, 8, 9, 10], 3) first determines that the key, 3, is in the left half of the list, and prints \"Checking the left side\", then determines that it's in the right half of the new list and prints \"Checking the right side\", before returning the value of 2, which is the position of the key in the list.<br><br>Add commands to the code, to print out \"Checking the left side\" or \"Checking the right side\", in the appropriate places.  "
      ]
    },
    {
      "cell_type": "code",
      "metadata": {
        "colab": {
          "base_uri": "https://localhost:8080/",
          "height": 324
        },
        "id": "yTsr0i308hFE",
        "outputId": "c554d98d-9a35-49b4-aaba-6fad273e8f67"
      },
      "source": [
        "def binary_search(list, key):\r\n",
        "    #Returns the position of key in the list if found, -1 otherwise.\r\n",
        "\r\n",
        "    #List must be sorted:\r\n",
        "    list.sort()\r\n",
        "    left = 0\r\n",
        "    right = len(list) - 1\r\n",
        "\r\n",
        "    while left <= right:\r\n",
        "        middle = (left + right) // 2\r\n",
        "\r\n",
        "        if list[middle] == key:\r\n",
        "            return middle\r\n",
        "        if list[middle] > key:\r\n",
        "            right = middle - 1\r\n",
        "            print(\"Checking the left side\")\r\n",
        "        if list[middle] < key:\r\n",
        "            left = middle + 1\r\n",
        "            print(\"Checking the right side\")\r\n",
        "    return -1 \r\n",
        "\r\n",
        "print(binary_search([10, 2, 9, 6, 7, 1, 5, 3, 4, 8], 1))\r\n",
        "\"\"\"Should print 2 debug lines and the return value:\r\n",
        "Checking the left side\r\n",
        "Checking the left side\r\n",
        "0\r\n",
        "\"\"\"\r\n",
        "\r\n",
        "print(binary_search([1, 2, 3, 4, 5, 6, 7, 8, 9, 10], 5))\r\n",
        "\"\"\"Should print no debug lines, as it's located immediately:\r\n",
        "4\r\n",
        "\"\"\"\r\n",
        "\r\n",
        "print(binary_search([10, 9, 8, 7, 6, 5, 4, 3, 2, 1], 7))\r\n",
        "\"\"\"Should print 3 debug lines and the return value:\r\n",
        "Checking the right side\r\n",
        "Checking the left side\r\n",
        "Checking the right side\r\n",
        "6\r\n",
        "\"\"\"\r\n",
        "\r\n",
        "print(binary_search([1, 3, 5, 7, 9, 10, 2, 4, 6, 8], 10))\r\n",
        "\"\"\"Should print 3 debug lines and the return value:\r\n",
        "Checking the right side\r\n",
        "Checking the right side\r\n",
        "Checking the right side\r\n",
        "9\r\n",
        "\"\"\"\r\n",
        "\r\n",
        "print(binary_search([5, 1, 8, 2, 4, 10, 7, 6, 3, 9], 11))\r\n",
        "\"\"\"Should print 4 debug lines and the \"not found\" value of -1:\r\n",
        "Checking the right side\r\n",
        "Checking the right side\r\n",
        "Checking the right side\r\n",
        "Checking the right side\r\n",
        "-1\r\n",
        "\"\"\""
      ],
      "execution_count": 4,
      "outputs": [
        {
          "output_type": "stream",
          "text": [
            "Checking the left side\n",
            "Checking the left side\n",
            "0\n",
            "4\n",
            "Checking the right side\n",
            "Checking the left side\n",
            "Checking the right side\n",
            "6\n",
            "Checking the right side\n",
            "Checking the right side\n",
            "Checking the right side\n",
            "9\n",
            "Checking the right side\n",
            "Checking the right side\n",
            "Checking the right side\n",
            "Checking the right side\n",
            "-1\n"
          ],
          "name": "stdout"
        },
        {
          "output_type": "execute_result",
          "data": {
            "application/vnd.google.colaboratory.intrinsic+json": {
              "type": "string"
            },
            "text/plain": [
              "'Should print 4 debug lines and the \"not found\" value of -1:\\nChecking the right side\\nChecking the right side\\nChecking the right side\\nChecking the right side\\n-1\\n'"
            ]
          },
          "metadata": {
            "tags": []
          },
          "execution_count": 4
        }
      ]
    },
    {
      "cell_type": "markdown",
      "metadata": {
        "id": "lukL170ojmHO"
      },
      "source": [
        "#### 4. When trying to find an error in a log file or output to the screen, what command can we use to review, say, the first 10 lines?"
      ]
    },
    {
      "cell_type": "markdown",
      "metadata": {
        "id": "PmM9_4xduLFU"
      },
      "source": [
        "`head`. The head command will print the first lines of a file, 10 lines by default."
      ]
    },
    {
      "cell_type": "markdown",
      "metadata": {
        "id": "V2KCU9oLFPEZ"
      },
      "source": [
        "#### 5. The best_search function compares linear_search and binary_search functions, to locate a key in the list, and returns how many steps each method took, and which one is the best for that situation. The list does not need to be sorted, as the binary_search function sorts it before proceeding (and uses one step to do so). Here, linear_search and binary_search functions both return the number of steps that it took to either locate the key, or determine that it's not in the list. If the number of steps is the same for both methods (including the extra step for sorting in binary_search), then the result is a tie. Fill in the blanks to make this work. "
      ]
    },
    {
      "cell_type": "code",
      "metadata": {
        "colab": {
          "base_uri": "https://localhost:8080/"
        },
        "id": "BBSPYpK98t_o",
        "outputId": "1dec95ba-9d8b-43f5-950f-8d7b5f5b98c3"
      },
      "source": [
        "def linear_search(list, key):\r\n",
        "    #Returns the number of steps to determine if key is in the list \r\n",
        "\r\n",
        "    #Initialize the counter of steps\r\n",
        "    steps=0\r\n",
        "    for i, item in enumerate(list):\r\n",
        "        steps += 1\r\n",
        "        if item == key:\r\n",
        "            break\r\n",
        "    return steps\r\n",
        "\r\n",
        "def binary_search(list, key):\r\n",
        "    #Returns the number of steps to determine if key is in the list \r\n",
        "\r\n",
        "    #List must be sorted:\r\n",
        "    list.sort()\r\n",
        "\r\n",
        "    #The Sort was 1 step, so initialize the counter of steps to 1\r\n",
        "    steps=1\r\n",
        "\r\n",
        "    left = 0\r\n",
        "    right = len(list) - 1\r\n",
        "    while left <= right:\r\n",
        "        steps += 1\r\n",
        "        middle = (left + right) // 2\r\n",
        "        \r\n",
        "        if list[middle] == key:\r\n",
        "            break\r\n",
        "        if list[middle] > key:\r\n",
        "            right = middle - 1\r\n",
        "        if list[middle] < key:\r\n",
        "            left = middle + 1\r\n",
        "    return steps \r\n",
        "\r\n",
        "def best_search(list, key):\r\n",
        "    steps_linear = linear_search(list, key) \r\n",
        "    steps_binary = binary_search(list, key)\r\n",
        "    results = \"Linear: \" + str(steps_linear) + \" steps, \"\r\n",
        "    results += \"Binary: \" + str(steps_binary) + \" steps. \"\r\n",
        "    if (steps_linear < steps_binary):\r\n",
        "        results += \"Best Search is Linear.\"\r\n",
        "    elif (steps_linear > steps_binary):\r\n",
        "        results += \"Best Search is Binary.\"\r\n",
        "    else:\r\n",
        "        results += \"Result is a Tie.\"\r\n",
        "\r\n",
        "    return results\r\n",
        "\r\n",
        "print(best_search([1, 2, 3, 4, 5, 6, 7, 8, 9, 10], 1))\r\n",
        "#Should be: Linear: 1 steps, Binary: 4 steps. Best Search is Linear.\r\n",
        "\r\n",
        "print(best_search([10, 2, 9, 1, 7, 5, 3, 4, 6, 8], 1))\r\n",
        "#Should be: Linear: 4 steps, Binary: 4 steps. Result is a Tie.\r\n",
        "\r\n",
        "print(best_search([10, 9, 8, 7, 6, 5, 4, 3, 2, 1], 7))\r\n",
        "#Should be: Linear: 4 steps, Binary: 5 steps. Best Search is Linear.\r\n",
        "\r\n",
        "print(best_search([1, 3, 5, 7, 9, 10, 2, 4, 6, 8], 10))\r\n",
        "#Should be: Linear: 6 steps, Binary: 5 steps. Best Search is Binary.\r\n",
        "\r\n",
        "print(best_search([5, 1, 8, 2, 4, 10, 7, 6, 3, 9], 11))\r\n",
        "#Should be: Linear: 10 steps, Binary: 5 steps. Best Search is Binary."
      ],
      "execution_count": 5,
      "outputs": [
        {
          "output_type": "stream",
          "text": [
            "Linear: 1 steps, Binary: 4 steps. Best Search is Linear.\n",
            "Linear: 4 steps, Binary: 4 steps. Result is a Tie.\n",
            "Linear: 4 steps, Binary: 5 steps. Best Search is Linear.\n",
            "Linear: 6 steps, Binary: 5 steps. Best Search is Binary.\n",
            "Linear: 10 steps, Binary: 5 steps. Best Search is Binary.\n"
          ],
          "name": "stdout"
        }
      ]
    }
  ]
}