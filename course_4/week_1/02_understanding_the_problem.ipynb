{
  "nbformat": 4,
  "nbformat_minor": 0,
  "metadata": {
    "colab": {
      "name": "Untitled0.ipynb",
      "provenance": []
    },
    "kernelspec": {
      "name": "python3",
      "display_name": "Python 3"
    }
  },
  "cells": [
    {
      "cell_type": "markdown",
      "metadata": {
        "id": "U3AVhcVodWXU"
      },
      "source": [
        "# **Practice Quiz: Understanding the Problem**\r\n",
        "\r\n",
        "\r\n",
        "---\r\n",
        "\r\n"
      ]
    },
    {
      "cell_type": "markdown",
      "metadata": {
        "id": "cW26w3nYdely"
      },
      "source": [
        "#### 1. When a user reports that an \"application doesn't work,\" what is an appropriate follow-up question to gather more information about the problem?\r\n"
      ]
    },
    {
      "cell_type": "markdown",
      "metadata": {
        "id": "pOw0TUsdZM26"
      },
      "source": [
        "`What should happen when you open the app?`. Asking the user what an expected result should be will help you gather more information to understand and isolate the problem."
      ]
    },
    {
      "cell_type": "markdown",
      "metadata": {
        "id": "bAaDaynijIFL"
      },
      "source": [
        "#### 2. What is a heisenbug?"
      ]
    },
    {
      "cell_type": "markdown",
      "metadata": {
        "id": "YxA7v8rs4XSW"
      },
      "source": [
        "`The observer effect`. The observer effect is when just observing a phenomenon alters the phenomenon."
      ]
    },
    {
      "cell_type": "markdown",
      "metadata": {
        "id": "XvoEo5i-jQGC"
      },
      "source": [
        "#### 3. The compare_strings function is supposed to compare just the alphanumeric content of two strings, ignoring upper vs lower case and punctuation. But something is not working. Fill in the code to try to find the problems, then fix the problems."
      ]
    },
    {
      "cell_type": "code",
      "metadata": {
        "colab": {
          "base_uri": "https://localhost:8080/"
        },
        "id": "yTsr0i308hFE",
        "outputId": "ce2aa3e4-bc22-4a9c-cadd-57ec7de22509"
      },
      "source": [
        "import re\r\n",
        "def compare_strings(string1, string2):\r\n",
        "  #Convert both strings to lowercase \r\n",
        "  #and remove leading and trailing blanks\r\n",
        "  string1 = string1.lower().strip()\r\n",
        "  string2 = string2.lower().strip()\r\n",
        "\r\n",
        "  #Ignore punctuation\r\n",
        "  punctuation = r\"[\\.\\?!,;:\\-']\"\r\n",
        "  string1 = re.sub(punctuation, \"\", string1)\r\n",
        "  string2 = re.sub(punctuation, \"\", string2)\r\n",
        "\r\n",
        "  return string1 == string2\r\n",
        "\r\n",
        "print(compare_strings(\"Have a Great Day!\", \"Have a great day?\")) # True\r\n",
        "print(compare_strings(\"It's raining again.\", \"its raining, again\")) # True\r\n",
        "print(compare_strings(\"Learn to count: 1, 2, 3.\", \"Learn to count: one, two, three.\")) # False\r\n",
        "print(compare_strings(\"They found some body.\", \"They found somebody.\")) # False"
      ],
      "execution_count": 1,
      "outputs": [
        {
          "output_type": "stream",
          "text": [
            "True\n",
            "True\n",
            "False\n",
            "False\n"
          ],
          "name": "stdout"
        }
      ]
    },
    {
      "cell_type": "markdown",
      "metadata": {
        "id": "lukL170ojmHO"
      },
      "source": [
        "#### 4. How do we verify if a problem is still persisting or not?"
      ]
    },
    {
      "cell_type": "markdown",
      "metadata": {
        "id": "PmM9_4xduLFU"
      },
      "source": [
        "`Attempt to trigger the problem again by following the steps of our reproduction case`. If we can recreate the circumstances of the issue, we can verify whether the problem continues to occur."
      ]
    },
    {
      "cell_type": "markdown",
      "metadata": {
        "id": "V2KCU9oLFPEZ"
      },
      "source": [
        "#### 5. The datetime module supplies classes for manipulating dates and times, and contains many types, objects, and methods. You've seen some of them used in the dow function, which returns the day of the week for a specific date. We'll use them again in the next_date function, which takes the date_string parameter in the format of \"year-month-day\", and uses the add_year function to calculate the next year that this date will occur (it's 4 years later for the 29th of February during Leap Year, and 1 year later for all other dates). Then it returns the value in the same format as it receives the date: \"year-month-day\". <br><br>Can you find the error in the code? Is it in the next_date function or the add_year function? How can you determine if the add_year function returns what it's supposed to? Add debug lines as necessary to find the problems, then fix the code to work as indicated above. "
      ]
    },
    {
      "cell_type": "code",
      "metadata": {
        "id": "BBSPYpK98t_o",
        "outputId": "6f9a5f02-22a6-43c0-ea7d-0abc03decae7",
        "colab": {
          "base_uri": "https://localhost:8080/"
        }
      },
      "source": [
        "import datetime\r\n",
        "from datetime import date\r\n",
        "\r\n",
        "def add_year(date_obj):\r\n",
        "  try:\r\n",
        "    new_date_obj = date_obj.replace(year = date_obj.year + 1)\r\n",
        "  except ValueError:\r\n",
        "    # This gets executed when the above method fails, \r\n",
        "    # which means that we're making a Leap Year calculation\r\n",
        "    new_date_obj = date_obj.replace(year = date_obj.year + 4)\r\n",
        "    return new_date_obj\r\n",
        "  return new_date_obj\r\n",
        "\r\n",
        "def next_date(date_string):\r\n",
        "  # Convert the argument from string to date object\r\n",
        "  date_obj = datetime.datetime.strptime(date_string, r\"%Y-%m-%d\")\r\n",
        "  next_date_obj = add_year(date_obj)\r\n",
        "\r\n",
        "  # Convert the datetime object to string, \r\n",
        "  # in the format of \"yyyy-mm-dd\"\r\n",
        "  next_date_string = next_date_obj.strftime(\"%Y-%m-%d\")\r\n",
        "  return next_date_string\r\n",
        "\r\n",
        "today = date.today()  # Get today's date\r\n",
        "print(next_date(str(today))) \r\n",
        "# Should return a year from today, unless today is Leap Day\r\n",
        "\r\n",
        "print(next_date(\"2021-01-01\")) # Should return 2022-01-01\r\n",
        "print(next_date(\"2020-02-29\")) # Should return 2024-02-29"
      ],
      "execution_count": 2,
      "outputs": [
        {
          "output_type": "stream",
          "text": [
            "2022-03-11\n",
            "2022-01-01\n",
            "2024-02-29\n"
          ],
          "name": "stdout"
        }
      ]
    }
  ]
}