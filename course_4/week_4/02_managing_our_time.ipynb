{
  "nbformat": 4,
  "nbformat_minor": 0,
  "metadata": {
    "colab": {
      "name": "02_managing_our_time.ipynb",
      "provenance": []
    },
    "kernelspec": {
      "name": "python3",
      "display_name": "Python 3"
    }
  },
  "cells": [
    {
      "cell_type": "markdown",
      "metadata": {
        "id": "U3AVhcVodWXU"
      },
      "source": [
        "# **Practice Quiz: Managing Our Time**\r\n",
        "\r\n",
        "\r\n",
        "---\r\n",
        "\r\n"
      ]
    },
    {
      "cell_type": "markdown",
      "metadata": {
        "id": "cW26w3nYdely"
      },
      "source": [
        "#### 1. Using the Eisenhower Decision Matrix, which of the following is an example of an event or task that is both Important, and Urgent?"
      ]
    },
    {
      "cell_type": "markdown",
      "metadata": {
        "id": "pOw0TUsdZM26"
      },
      "source": [
        "`Internet connection is down`. It’s important for users to have Internet to work, and it must be resolved right away."
      ]
    },
    {
      "cell_type": "markdown",
      "metadata": {
        "id": "bAaDaynijIFL"
      },
      "source": [
        "#### 2. You’re working on a web server issue that’s preventing all users from accessing the site. You then receive a call from user to reset their user account password. Which appropriate action should you take when prioritizing your tasks?"
      ]
    },
    {
      "cell_type": "markdown",
      "metadata": {
        "id": "ZMT3lPyNX0RQ"
      },
      "source": [
        "`Ask the user to open a support ticket`. Ask the user to open a support ticket so that the request can be placed into the queue while you work on the most urgent issue at hand."
      ]
    },
    {
      "cell_type": "markdown",
      "metadata": {
        "id": "XvoEo5i-jQGC"
      },
      "source": [
        "#### 3. What is it called when we make more work for ourselves later by taking shortcuts now?"
      ]
    },
    {
      "cell_type": "markdown",
      "metadata": {
        "id": "9LLXBJ1ZX5tv"
      },
      "source": [
        "`Technical debt`. Technical debt is defined as the implied cost of additional rework caused by choosing an easy (limited) solution now instead of using a better, but more difficult, solution."
      ]
    },
    {
      "cell_type": "markdown",
      "metadata": {
        "id": "lukL170ojmHO"
      },
      "source": [
        "#### 4. What is the first step of prioritizing our time properly?"
      ]
    },
    {
      "cell_type": "markdown",
      "metadata": {
        "id": "PmM9_4xduLFU"
      },
      "source": [
        "`Make a list of all tasks`. Before we can even decide which task to do first, we need to make a list of our tasks."
      ]
    },
    {
      "cell_type": "markdown",
      "metadata": {
        "id": "V2KCU9oLFPEZ"
      },
      "source": [
        "#### 5. If an issue isn't solved within the time estimate that you provided, what should you do? (Select all that apply)"
      ]
    },
    {
      "cell_type": "markdown",
      "metadata": {
        "id": "izQmFJ6RYE6p"
      },
      "source": [
        "- `Explain why`. Communication is key, and it’s best to keep everyone informed.\r\n",
        "- `Give an updated time estimate`. If your original estimate turned out to be overly optimistic, it’s appropriate to re-estimate."
      ]
    }
  ]
}