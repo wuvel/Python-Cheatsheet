{
  "nbformat": 4,
  "nbformat_minor": 0,
  "metadata": {
    "colab": {
      "name": "Untitled0.ipynb",
      "provenance": []
    },
    "kernelspec": {
      "name": "python3",
      "display_name": "Python 3"
    }
  },
  "cells": [
    {
      "cell_type": "markdown",
      "metadata": {
        "id": "U3AVhcVodWXU"
      },
      "source": [
        "# **Practice Quiz: Making Our Future Lives Easier**\r\n",
        "\r\n",
        "\r\n",
        "---\r\n",
        "\r\n"
      ]
    },
    {
      "cell_type": "markdown",
      "metadata": {
        "id": "cW26w3nYdely"
      },
      "source": [
        "#### 1. Which proactive practice can you implement to make troubleshooting issues in a program easier when they happen again, or face other similar issues?"
      ]
    },
    {
      "cell_type": "markdown",
      "metadata": {
        "id": "pOw0TUsdZM26"
      },
      "source": [
        "`Create and update documentation`. Documentation that includes good instructions on how to resolve an issue can assist in resolving the same, or similar issue in the future."
      ]
    },
    {
      "cell_type": "markdown",
      "metadata": {
        "id": "bAaDaynijIFL"
      },
      "source": [
        "#### 2. Which of the following is a good example of mixing and matching resources on a single server so that the running services make the best possible use of all resources?"
      ]
    },
    {
      "cell_type": "markdown",
      "metadata": {
        "id": "ZMT3lPyNX0RQ"
      },
      "source": [
        "`Run a RAM intensive application and a CPU intensive application on a server`. An application that uses a lot of RAM can still run while CPU is mostly used by another application on the same server."
      ]
    },
    {
      "cell_type": "markdown",
      "metadata": {
        "id": "XvoEo5i-jQGC"
      },
      "source": [
        "#### 3. One strategy for debugging involves explaining the problem to yourself out loud. What is this technique known as?"
      ]
    },
    {
      "cell_type": "markdown",
      "metadata": {
        "id": "9LLXBJ1ZX5tv"
      },
      "source": [
        "`Rubber ducking`. Rubber ducking is the process of explaining a problem to a \"rubber duck\", or rather yourself, to better understand the problem."
      ]
    },
    {
      "cell_type": "markdown",
      "metadata": {
        "id": "lukL170ojmHO"
      },
      "source": [
        "#### 4. When deploying software, what is a canary? "
      ]
    },
    {
      "cell_type": "markdown",
      "metadata": {
        "id": "PmM9_4xduLFU"
      },
      "source": [
        "`A test deployment to a subset of production hosts`. Reminiscent of the old term \"canary in a coal mine\", a canary is a test deployment of our software, just to see what happens."
      ]
    },
    {
      "cell_type": "markdown",
      "metadata": {
        "id": "V2KCU9oLFPEZ"
      },
      "source": [
        "#### 5. It is advisable to collect monitoring information into a central location. Given the importance of the server handling the centralized collecting, when assessing risks from outages, this server could be described as what?"
      ]
    },
    {
      "cell_type": "markdown",
      "metadata": {
        "id": "izQmFJ6RYE6p"
      },
      "source": [
        "`A failure domain`. A failure domain is a logical or physical component of a system that might fail."
      ]
    }
  ]
}