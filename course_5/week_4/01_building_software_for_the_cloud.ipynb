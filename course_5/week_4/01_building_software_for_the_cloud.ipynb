{
  "nbformat": 4,
  "nbformat_minor": 0,
  "metadata": {
    "colab": {
      "name": "Untitled0.ipynb",
      "provenance": [],
      "collapsed_sections": []
    },
    "kernelspec": {
      "name": "python3",
      "display_name": "Python 3"
    }
  },
  "cells": [
    {
      "cell_type": "markdown",
      "metadata": {
        "id": "U3AVhcVodWXU"
      },
      "source": [
        "# **Practice Quiz: Building Software for the Cloud**\r\n",
        "\r\n",
        "\r\n",
        "---\r\n",
        "\r\n"
      ]
    },
    {
      "cell_type": "markdown",
      "metadata": {
        "id": "cW26w3nYdely"
      },
      "source": [
        "#### 1. What is latency in terms of Cloud storage?"
      ]
    },
    {
      "cell_type": "markdown",
      "metadata": {
        "id": "pOw0TUsdZM26"
      },
      "source": [
        "`The amount of time it takes to complete a read or write operation`. Latency is the amount of time it takes to complete a read or write operation."
      ]
    },
    {
      "cell_type": "markdown",
      "metadata": {
        "id": "bAaDaynijIFL"
      },
      "source": [
        "#### 2. Which of the following statements about sticky sessions are true? (Select all that apply.)"
      ]
    },
    {
      "cell_type": "markdown",
      "metadata": {
        "id": "TeTogQCVwQ0h"
      },
      "source": [
        "- `All requests from the same client always go to the same backend server`. Sticky sessions route requests for a particular session to the same machine that first served the request for that session.\r\n",
        "- `They should only be used when needed`. Because sticky sessions can cause uneven load distribution as well as migration problems, they should only be used when absolutely necessary.\r\n",
        "- `They can cause problems during migration`. Sticky sessions can cause unexpected results during migration, updating, or upgrading, so it's best to use them only when absolutely necessary."
      ]
    },
    {
      "cell_type": "markdown",
      "metadata": {
        "id": "XvoEo5i-jQGC"
      },
      "source": [
        "#### 3. If you run into limitations such as rate limits or utilization limits, you should contact the Cloud provider and ask for a _____."
      ]
    },
    {
      "cell_type": "markdown",
      "metadata": {
        "id": "9LLXBJ1ZX5tv"
      },
      "source": [
        "`Quota increase`. Our cloud provider can increase our limits that we have set, though it will cost more money."
      ]
    },
    {
      "cell_type": "markdown",
      "metadata": {
        "id": "lukL170ojmHO"
      },
      "source": [
        "#### 4. What is the term referring to everything needed to run a service?"
      ]
    },
    {
      "cell_type": "markdown",
      "metadata": {
        "id": "PmM9_4xduLFU"
      },
      "source": [
        "`Environment`. Everything used to run the service is referred to as the environment. This includes the machines and networks used for running the service, the deployed code, the configuration management, the application configurations, and the customer data."
      ]
    },
    {
      "cell_type": "markdown",
      "metadata": {
        "id": "V2KCU9oLFPEZ"
      },
      "source": [
        "#### 5. What is the term referring to a network of hosts spread in different geographical locations, allowing ISPs to be as close as possible to content?"
      ]
    },
    {
      "cell_type": "markdown",
      "metadata": {
        "id": "izQmFJ6RYE6p"
      },
      "source": [
        "`Content Delivery Network`. CDNs allow an ISP to select the closest server for the content it is requesting."
      ]
    }
  ]
}