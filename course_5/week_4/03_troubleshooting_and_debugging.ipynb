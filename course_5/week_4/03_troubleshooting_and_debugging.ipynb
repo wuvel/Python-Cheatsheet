{
  "nbformat": 4,
  "nbformat_minor": 0,
  "metadata": {
    "colab": {
      "name": "Untitled0.ipynb",
      "provenance": [],
      "collapsed_sections": []
    },
    "kernelspec": {
      "name": "python3",
      "display_name": "Python 3"
    }
  },
  "cells": [
    {
      "cell_type": "markdown",
      "metadata": {
        "id": "U3AVhcVodWXU"
      },
      "source": [
        "# **Practice Quiz: Troubleshooting & Debugging**\r\n",
        "\r\n",
        "\r\n",
        "---\r\n",
        "\r\n"
      ]
    },
    {
      "cell_type": "markdown",
      "metadata": {
        "id": "cW26w3nYdely"
      },
      "source": [
        "#### 1. Which of the following are valid strategies for recovery after encountering service failure? (Select all that apply.)"
      ]
    },
    {
      "cell_type": "markdown",
      "metadata": {
        "id": "pOw0TUsdZM26"
      },
      "source": [
        "- `Switching to a secondary instance`. A quick way to recover is to have a secondary instance of the VM running your service that you can quickly switch to.\r\n",
        "- `Restoring from backup`. As long as you've been keeping frequent backups, restoring a previous VM image will often get you where you need to be.\r\n",
        "- `Performing a rollback to a previous version`. If the problem is related to recent changes or updates, rolling back to a previous working version of the service or supporting software will give the time to investigate further."
      ]
    },
    {
      "cell_type": "markdown",
      "metadata": {
        "id": "bAaDaynijIFL"
      },
      "source": [
        "#### 2. Which of the following concepts provide redundancy? (Select all that apply.)"
      ]
    },
    {
      "cell_type": "markdown",
      "metadata": {
        "id": "TeTogQCVwQ0h"
      },
      "source": [
        "- `Having a secondary instance of a VM`. If your primary VM instance running your service fails, having a secondary instance running in the background ready to take over can provide instant failover.\r\n",
        "- `Having a secondary Cloud vendor`. Having a secondary Cloud service provider on hand with your data in case of the first provider having large-scale outages can provide redundancy for a worst-case scenario."
      ]
    },
    {
      "cell_type": "markdown",
      "metadata": {
        "id": "XvoEo5i-jQGC"
      },
      "source": [
        "#### 3. If you operate a service that stores any kind of data, what are some critical steps to ensure disaster recovery? (Select all that apply)"
      ]
    },
    {
      "cell_type": "markdown",
      "metadata": {
        "id": "9LLXBJ1ZX5tv"
      },
      "source": [
        "- `Implement automated backups`. As long as we have viable backup images, we can restore the VM running our service.\r\n",
        "- `Test backups by restoring`. It's important to know that our backup process is working correctly. It would not do to be in a recovery situation and not have backups."
      ]
    },
    {
      "cell_type": "markdown",
      "metadata": {
        "id": "lukL170ojmHO"
      },
      "source": [
        "#### 4. What is the correct term for packaged applications that are shipped with all needed libraries and dependencies, and allows the application to run in isolation?"
      ]
    },
    {
      "cell_type": "markdown",
      "metadata": {
        "id": "PmM9_4xduLFU"
      },
      "source": [
        "`Containers`. Containerization ensures that our software runs the same way every time."
      ]
    },
    {
      "cell_type": "markdown",
      "metadata": {
        "id": "V2KCU9oLFPEZ"
      },
      "source": [
        "#### 5. Using a large variety of containerized applications can get complicated and messy. What are some important tips for solving problems when using containers? (Select all that apply)"
      ]
    },
    {
      "cell_type": "markdown",
      "metadata": {
        "id": "izQmFJ6RYE6p"
      },
      "source": [
        "- `Use extensive logging in all parts`. As long as we have the right logs in the right places, we can tell where our problems are.\r\n",
        "- `Use test instances`. We should take every opportunity to test and retest that our configuration is working properly."
      ]
    }
  ]
}