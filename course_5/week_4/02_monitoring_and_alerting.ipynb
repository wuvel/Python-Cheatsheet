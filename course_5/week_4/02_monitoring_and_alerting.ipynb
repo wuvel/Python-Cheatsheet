{
  "nbformat": 4,
  "nbformat_minor": 0,
  "metadata": {
    "colab": {
      "name": "Untitled0.ipynb",
      "provenance": [],
      "collapsed_sections": []
    },
    "kernelspec": {
      "name": "python3",
      "display_name": "Python 3"
    }
  },
  "cells": [
    {
      "cell_type": "markdown",
      "metadata": {
        "id": "U3AVhcVodWXU"
      },
      "source": [
        "# **Practice Quiz: Monitoring & Alerting**\r\n",
        "\r\n",
        "\r\n",
        "---\r\n",
        "\r\n"
      ]
    },
    {
      "cell_type": "markdown",
      "metadata": {
        "id": "cW26w3nYdely"
      },
      "source": [
        "#### 1. What is a Service Level Agreement?"
      ]
    },
    {
      "cell_type": "markdown",
      "metadata": {
        "id": "pOw0TUsdZM26"
      },
      "source": [
        "`A strict commitment between a provider and a client`. A service-level agreement is an arrangement between two or more parties, one being the client and the other being service providers."
      ]
    },
    {
      "cell_type": "markdown",
      "metadata": {
        "id": "bAaDaynijIFL"
      },
      "source": [
        "#### 2. What is the most important aspect of an alert?"
      ]
    },
    {
      "cell_type": "markdown",
      "metadata": {
        "id": "TeTogQCVwQ0h"
      },
      "source": [
        "`It must be actionable`. If an alert notification is not actionable, it should not be an alert at all."
      ]
    },
    {
      "cell_type": "markdown",
      "metadata": {
        "id": "XvoEo5i-jQGC"
      },
      "source": [
        "#### 3. Which part of an HTTP message from a web server is useful for tracking the overall status of the response and can be  monitored and logged?"
      ]
    },
    {
      "cell_type": "markdown",
      "metadata": {
        "id": "9LLXBJ1ZX5tv"
      },
      "source": [
        "`The response code in the server's message`. We can log and monitor these response codes, and even use them to set alert conditions."
      ]
    },
    {
      "cell_type": "markdown",
      "metadata": {
        "id": "lukL170ojmHO"
      },
      "source": [
        "#### 4. To set up a new alert, we have to configure the _____ that triggers the alert."
      ]
    },
    {
      "cell_type": "markdown",
      "metadata": {
        "id": "PmM9_4xduLFU"
      },
      "source": [
        "`Condition`. We must define what occurence or metric threshold will serve as a conditional trigger for our alert."
      ]
    },
    {
      "cell_type": "markdown",
      "metadata": {
        "id": "V2KCU9oLFPEZ"
      },
      "source": [
        "#### 5. When we collect metrics from inside a system, this is known as ______ monitoring."
      ]
    },
    {
      "cell_type": "markdown",
      "metadata": {
        "id": "izQmFJ6RYE6p"
      },
      "source": [
        "`White-box`. A white-box monitoring system is one that collects metrics internally, from within the system being monitored."
      ]
    }
  ]
}