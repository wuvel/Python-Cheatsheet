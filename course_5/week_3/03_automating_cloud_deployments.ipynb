{
  "nbformat": 4,
  "nbformat_minor": 0,
  "metadata": {
    "colab": {
      "name": "Untitled0.ipynb",
      "provenance": []
    },
    "kernelspec": {
      "name": "python3",
      "display_name": "Python 3"
    }
  },
  "cells": [
    {
      "cell_type": "markdown",
      "metadata": {
        "id": "U3AVhcVodWXU"
      },
      "source": [
        "# **Practice Quiz: Automating Cloud Deployments**\r\n",
        "\r\n",
        "\r\n",
        "---\r\n",
        "\r\n"
      ]
    },
    {
      "cell_type": "markdown",
      "metadata": {
        "id": "cW26w3nYdely"
      },
      "source": [
        "#### 1. In order to detect and correct errors before end users are affected, what technique(s) should we set up?"
      ]
    },
    {
      "cell_type": "markdown",
      "metadata": {
        "id": "pOw0TUsdZM26"
      },
      "source": [
        "`Monitoring and Alerting`. Monitoring and alerting allows us to monitor and correct incidents or failures before they reach the end user."
      ]
    },
    {
      "cell_type": "markdown",
      "metadata": {
        "id": "bAaDaynijIFL"
      },
      "source": [
        "#### 2. When accessing a website, your web browser retrieves the IP address of a specific node in order to load the site. What is this node called?"
      ]
    },
    {
      "cell_type": "markdown",
      "metadata": {
        "id": "TeTogQCVwQ0h"
      },
      "source": [
        "`Entry Point`. When you connect to a website via the Internet, the web browser first receives an IP address. This IP address identifies a particular computer: the entry point of the website."
      ]
    },
    {
      "cell_type": "markdown",
      "metadata": {
        "id": "XvoEo5i-jQGC"
      },
      "source": [
        "#### 3. What simple load-balancing technique just assigns to each node one request at a time?"
      ]
    },
    {
      "cell_type": "markdown",
      "metadata": {
        "id": "9LLXBJ1ZX5tv"
      },
      "source": [
        "`Round Robin`. Round-robin load balancing is a basic way of spreading client requests across a server group. In turn, a client request will be forwarded to each server. The load balancer is directed by the algorithm to go back to the top of the list and repeat again."
      ]
    },
    {
      "cell_type": "markdown",
      "metadata": {
        "id": "lukL170ojmHO"
      },
      "source": [
        "#### 4. Which cloud automation technique spins up more VMs into instance groups when demand increases, and shuts down VMs when demand decreases?"
      ]
    },
    {
      "cell_type": "markdown",
      "metadata": {
        "id": "PmM9_4xduLFU"
      },
      "source": [
        "`Autoscaling`. Autoscaling helps us save costs by matching resources with demand automatically."
      ]
    },
    {
      "cell_type": "markdown",
      "metadata": {
        "id": "V2KCU9oLFPEZ"
      },
      "source": [
        "#### 5. Which of the following are examples of orchestration tools used to manage cloud resources as code? (Check all that apply)"
      ]
    },
    {
      "cell_type": "markdown",
      "metadata": {
        "id": "izQmFJ6RYE6p"
      },
      "source": [
        "- `Terraform`. Like Puppet, Terraform uses its own domain specific language (DSL), and manages configuration resources as code.\r\n",
        "- `CloudFormation`. CloudFormation is a service provided by Amazon to assist in modeling and managing AWS resources.\r\n",
        "- `Azure Resource Manager`. Azure Resource Manager is the deployment and management service for Azure. It provides a management layer that enables you to create, update, and delete resources."
      ]
    }
  ]
}