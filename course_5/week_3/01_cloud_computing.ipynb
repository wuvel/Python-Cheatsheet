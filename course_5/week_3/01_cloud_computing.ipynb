{
  "nbformat": 4,
  "nbformat_minor": 0,
  "metadata": {
    "colab": {
      "name": "Untitled0.ipynb",
      "provenance": []
    },
    "kernelspec": {
      "name": "python3",
      "display_name": "Python 3"
    }
  },
  "cells": [
    {
      "cell_type": "markdown",
      "metadata": {
        "id": "U3AVhcVodWXU"
      },
      "source": [
        "# **Practice Quiz: Cloud Computing**\r\n",
        "\r\n",
        "\r\n",
        "---\r\n",
        "\r\n"
      ]
    },
    {
      "cell_type": "markdown",
      "metadata": {
        "id": "cW26w3nYdely"
      },
      "source": [
        "#### 1. When we use cloud services provided to the general consumer, such as Google Suite or Gmail, what cloud deployment model are we using?"
      ]
    },
    {
      "cell_type": "markdown",
      "metadata": {
        "id": "pOw0TUsdZM26"
      },
      "source": [
        "`Public cloud`. A public cloud offers services to the general public, often as SaaS (Software as a Service) offerings."
      ]
    },
    {
      "cell_type": "markdown",
      "metadata": {
        "id": "bAaDaynijIFL"
      },
      "source": [
        "#### 2. What is a container?"
      ]
    },
    {
      "cell_type": "markdown",
      "metadata": {
        "id": "TeTogQCVwQ0h"
      },
      "source": [
        "`A virtualized environment containing applications and configurations that can run quickly and reliably on any computing environment`. A container is an OS- and hardware-independent environment that allows for easy migration and compatibility. "
      ]
    },
    {
      "cell_type": "markdown",
      "metadata": {
        "id": "XvoEo5i-jQGC"
      },
      "source": [
        "#### 3. Select the examples of Managed Web Application Platforms. (Check all that apply)"
      ]
    },
    {
      "cell_type": "markdown",
      "metadata": {
        "id": "9LLXBJ1ZX5tv"
      },
      "source": [
        "- `Google App Engine`. Google App Engine is a Platform as a Service (PaaS) product that offers access to Google's flexible hosting and Tier 1 Internet service for Web app developers and enterprises.\r\n",
        "- `Amazon Elastic Beanstalk`. AWS Elastic Beanstalk is an easy-to-use PaaS service for deploying and scaling web applications.\r\n",
        "- `Microsoft App Service`. Microsoft Azure App Service enables you to build and host web apps, mobile back ends, and RESTful APIs in the programming language of your choice without having to manage infrastructure."
      ]
    },
    {
      "cell_type": "markdown",
      "metadata": {
        "id": "lukL170ojmHO"
      },
      "source": [
        "#### 4. When a company solely owns and manages its own cloud infrastructure, what type of cloud deployment model are they using?"
      ]
    },
    {
      "cell_type": "markdown",
      "metadata": {
        "id": "PmM9_4xduLFU"
      },
      "source": [
        "`Private cloud`. A private cloud deployment is one that is fully owned and operated by a single company or entity."
      ]
    },
    {
      "cell_type": "markdown",
      "metadata": {
        "id": "V2KCU9oLFPEZ"
      },
      "source": [
        "#### 5. Which \"direction\" are we scaling when we add RAM or CPU resources to individual nodes?"
      ]
    },
    {
      "cell_type": "markdown",
      "metadata": {
        "id": "izQmFJ6RYE6p"
      },
      "source": [
        "`Vertical`. Vertical scaling is a form of upscaling, but upscaling can also be horizontal."
      ]
    }
  ]
}