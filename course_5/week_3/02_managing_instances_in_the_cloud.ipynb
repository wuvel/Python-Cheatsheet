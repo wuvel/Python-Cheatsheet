{
  "nbformat": 4,
  "nbformat_minor": 0,
  "metadata": {
    "colab": {
      "name": "Untitled0.ipynb",
      "provenance": []
    },
    "kernelspec": {
      "name": "python3",
      "display_name": "Python 3"
    }
  },
  "cells": [
    {
      "cell_type": "markdown",
      "metadata": {
        "id": "U3AVhcVodWXU"
      },
      "source": [
        "# **Practice Quiz: Managing Instances in the Cloud**\r\n",
        "\r\n",
        "\r\n",
        "---\r\n",
        "\r\n"
      ]
    },
    {
      "cell_type": "markdown",
      "metadata": {
        "id": "cW26w3nYdely"
      },
      "source": [
        "#### 1. What is templating?"
      ]
    },
    {
      "cell_type": "markdown",
      "metadata": {
        "id": "pOw0TUsdZM26"
      },
      "source": [
        "`The process of capturing the entire system configuration to enable us to reproduce virtual machines`. Effective templating software allows you to capture an entire virtual machine configuration and use it to create new ones."
      ]
    },
    {
      "cell_type": "markdown",
      "metadata": {
        "id": "bAaDaynijIFL"
      },
      "source": [
        "#### 2. Why is it important to consider the region and zone for your cloud service?"
      ]
    },
    {
      "cell_type": "markdown",
      "metadata": {
        "id": "TeTogQCVwQ0h"
      },
      "source": [
        "`To ensure bandwidth and reliability for users`. Generally, you're going to want to choose a region that is close to your users so that you can deliver better performance."
      ]
    },
    {
      "cell_type": "markdown",
      "metadata": {
        "id": "XvoEo5i-jQGC"
      },
      "source": [
        "#### 3. What option is used to determine which OS will run on the VM?"
      ]
    },
    {
      "cell_type": "markdown",
      "metadata": {
        "id": "9LLXBJ1ZX5tv"
      },
      "source": [
        "`Boot Disk`. The boot disk from which the VM boots will determine what operating system runs on the VM."
      ]
    },
    {
      "cell_type": "markdown",
      "metadata": {
        "id": "lukL170ojmHO"
      },
      "source": [
        "#### 4. When setting up a new series of VMs using a reference image, what are some possible options for upgrading services running on our VM at scale?"
      ]
    },
    {
      "cell_type": "markdown",
      "metadata": {
        "id": "PmM9_4xduLFU"
      },
      "source": [
        "- `Create a new reference image each update`. One way of updating VM services at scale is to simply spin them up again with an updated reference image.\r\n",
        "- `Use a configuration management system like Puppet`. Puppet or other configuration management systems provide a streamlined way to deploy service updates at scale."
      ]
    },
    {
      "cell_type": "markdown",
      "metadata": {
        "id": "V2KCU9oLFPEZ"
      },
      "source": [
        "#### 5. When using gcloud to manage VMs, what two parameters tell gcloud that a) we want to manage our VM resources and b) that we want to deal with individual VMs? (Check two)"
      ]
    },
    {
      "cell_type": "markdown",
      "metadata": {
        "id": "izQmFJ6RYE6p"
      },
      "source": [
        "- `compute`. The compute parameter tells gcloud that we are managing Compute Engine resources.\r\n",
        "- `intances`. The instances parameter that follows the compute parameter tells gcloud that we want to manage our VMs on the instance level."
      ]
    }
  ]
}