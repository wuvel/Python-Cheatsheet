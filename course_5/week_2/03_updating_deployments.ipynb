{
  "nbformat": 4,
  "nbformat_minor": 0,
  "metadata": {
    "colab": {
      "name": "Untitled0.ipynb",
      "provenance": []
    },
    "kernelspec": {
      "name": "python3",
      "display_name": "Python 3"
    }
  },
  "cells": [
    {
      "cell_type": "markdown",
      "metadata": {
        "id": "U3AVhcVodWXU"
      },
      "source": [
        "# **Practice Quiz: Updating Deployments**\r\n",
        "\r\n",
        "\r\n",
        "---\r\n",
        "\r\n"
      ]
    },
    {
      "cell_type": "markdown",
      "metadata": {
        "id": "cW26w3nYdely"
      },
      "source": [
        "#### 1. What is a production environment in Puppet?"
      ]
    },
    {
      "cell_type": "markdown",
      "metadata": {
        "id": "pOw0TUsdZM26"
      },
      "source": [
        "`The parts of the infrastructure where a service is executed, and served to its users`. Environments in Puppet are used to isolate software in development from software being served to end users."
      ]
    },
    {
      "cell_type": "markdown",
      "metadata": {
        "id": "bAaDaynijIFL"
      },
      "source": [
        "#### 2. What is the --noop parameter used for?"
      ]
    },
    {
      "cell_type": "markdown",
      "metadata": {
        "id": "TeTogQCVwQ0h"
      },
      "source": [
        "`Simulating manifest evaluation without taking any actions`. No Operations mode makes Puppet simulate what it would do without actually doing it."
      ]
    },
    {
      "cell_type": "markdown",
      "metadata": {
        "id": "XvoEo5i-jQGC"
      },
      "source": [
        "#### 3. What do rspec tests do?"
      ]
    },
    {
      "cell_type": "markdown",
      "metadata": {
        "id": "9LLXBJ1ZX5tv"
      },
      "source": [
        "`Check the manifests for specific content`. We can test our manifests automatically by using rspec tests. In these tests, we can verify resources exist and have attributes set to specific values."
      ]
    },
    {
      "cell_type": "markdown",
      "metadata": {
        "id": "lukL170ojmHO"
      },
      "source": [
        "#### 4. How are canary environments used in testing?"
      ]
    },
    {
      "cell_type": "markdown",
      "metadata": {
        "id": "PmM9_4xduLFU"
      },
      "source": [
        "`As a test environment to detect problems before they reach the production environment`. If we can identify a problem before it reaches all the machines in the production  environment, we’ll be able to keep the problem isolated."
      ]
    },
    {
      "cell_type": "markdown",
      "metadata": {
        "id": "V2KCU9oLFPEZ"
      },
      "source": [
        "#### 5. What are efficient ways to check the syntax of the manifest? (Check all that apply)"
      ]
    },
    {
      "cell_type": "markdown",
      "metadata": {
        "id": "izQmFJ6RYE6p"
      },
      "source": [
        "- `Run full No Operations simulations`. In order to perform No Operations simulations, we must use the --noop parameter when running the rules.\r\n",
        "- `Run rspec tests`. To test automatically, we need to run rspec tests, and fix any errors in the manifest until the RSpec tests pass.\r\n",
        "- `puppet parser validate`. Using the puppet parser validate command is the simplest way to check that the syntax of the manifest is correct."
      ]
    }
  ]
}