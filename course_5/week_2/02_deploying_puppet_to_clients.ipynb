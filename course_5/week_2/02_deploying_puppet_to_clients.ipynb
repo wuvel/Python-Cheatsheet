{
  "nbformat": 4,
  "nbformat_minor": 0,
  "metadata": {
    "colab": {
      "name": "Untitled0.ipynb",
      "provenance": []
    },
    "kernelspec": {
      "name": "python3",
      "display_name": "Python 3"
    }
  },
  "cells": [
    {
      "cell_type": "markdown",
      "metadata": {
        "id": "U3AVhcVodWXU"
      },
      "source": [
        "# **Practice Quiz: Deploying Puppet to Clients**\r\n",
        "\r\n",
        "\r\n",
        "---\r\n",
        "\r\n"
      ]
    },
    {
      "cell_type": "markdown",
      "metadata": {
        "id": "cW26w3nYdely"
      },
      "source": [
        "#### 1. When defining nodes, how do we identify a specific node that we want to set rules for? "
      ]
    },
    {
      "cell_type": "markdown",
      "metadata": {
        "id": "pOw0TUsdZM26"
      },
      "source": [
        "`By specifying the node's Fully Qualified Domain Names (FQDNs)`. A FQDN is a complete domain name for a specific machine that contains both the hostname and the domain name.  "
      ]
    },
    {
      "cell_type": "markdown",
      "metadata": {
        "id": "bAaDaynijIFL"
      },
      "source": [
        "#### 2. When a Puppet agent evaluates the state of each component in the manifest, it uses gathered facts about the system to decide which rules to apply. What tool can these facts be \"plugged into\" in order to simplify management of the content of our Puppet configuration files?  "
      ]
    },
    {
      "cell_type": "markdown",
      "metadata": {
        "id": "TeTogQCVwQ0h"
      },
      "source": [
        "`Templates`. Templates are documents that combine code, system facts, and text to render a configuration output fitting predefined rules.  "
      ]
    },
    {
      "cell_type": "markdown",
      "metadata": {
        "id": "XvoEo5i-jQGC"
      },
      "source": [
        "#### 3. What is the first thing that happens after a node connects to the Puppet master for the first time?"
      ]
    },
    {
      "cell_type": "markdown",
      "metadata": {
        "id": "9LLXBJ1ZX5tv"
      },
      "source": [
        "`The node requests a certificate`. After receiving a certificate, the node will reuse it for subsequent logins."
      ]
    },
    {
      "cell_type": "markdown",
      "metadata": {
        "id": "lukL170ojmHO"
      },
      "source": [
        "#### 4. What does FQDN stand for, and what is it?"
      ]
    },
    {
      "cell_type": "markdown",
      "metadata": {
        "id": "PmM9_4xduLFU"
      },
      "source": [
        "`Fully Qualified Domain Name, which is the full address for a node`. A fully qualified domain name (FQDN) is the unabbreviated name for a particular computer, or server. There are two elements of the FQDN: the hostname and the domain name."
      ]
    },
    {
      "cell_type": "markdown",
      "metadata": {
        "id": "V2KCU9oLFPEZ"
      },
      "source": [
        "#### 5. What type of cryptographic security framework does Puppet use to authenticate individual nodes?"
      ]
    },
    {
      "cell_type": "markdown",
      "metadata": {
        "id": "izQmFJ6RYE6p"
      },
      "source": [
        "`Public Key Infrastructure (PKI)`. Puppet uses an Secure Sockets Layer (SSL) Public Key Infrastructure to authenticate both nodes and masters."
      ]
    }
  ]
}