{
  "nbformat": 4,
  "nbformat_minor": 0,
  "metadata": {
    "colab": {
      "name": "Untitled0.ipynb",
      "provenance": []
    },
    "kernelspec": {
      "name": "python3",
      "display_name": "Python 3"
    }
  },
  "cells": [
    {
      "cell_type": "markdown",
      "metadata": {
        "id": "U3AVhcVodWXU"
      },
      "source": [
        "# **Practice Quiz: Introduction to Puppet**\r\n",
        "\r\n",
        "\r\n",
        "---\r\n",
        "\r\n"
      ]
    },
    {
      "cell_type": "markdown",
      "metadata": {
        "id": "cW26w3nYdely"
      },
      "source": [
        "#### 1. A Puppet agent inspects /etc/conf.d, determines the OS to be Gentoo Linux, then activates the Portage package manager. What is the provider in this scenario?  "
      ]
    },
    {
      "cell_type": "markdown",
      "metadata": {
        "id": "pOw0TUsdZM26"
      },
      "source": [
        "`Portage`. The Portage package manager used by Gentoo Linux is the provider called by the Puppet agent."
      ]
    },
    {
      "cell_type": "markdown",
      "metadata": {
        "id": "bAaDaynijIFL"
      },
      "source": [
        "#### 2. Which of the following examples show proper Puppet syntax? "
      ]
    },
    {
      "cell_type": "code",
      "metadata": {
        "id": "UTmZQgoZJ3H7"
      },
      "source": [
        "class AutoConfig {\r\n",
        "  package { 'Executable':\r\n",
        "    ensure => latest,\r\n",
        "  }\r\n",
        "  file { 'executable.cfg':\r\n",
        "    source => 'puppet:///modules/executable/Autoconfig/executable.cfg'\r\n",
        "    replace => true,\r\n",
        "  }\r\n",
        "  service { 'executable.exe':\r\n",
        "    enable  => true,\r\n",
        "    ensure  => running,\r\n",
        "  }\r\n",
        "}"
      ],
      "execution_count": null,
      "outputs": []
    },
    {
      "cell_type": "markdown",
      "metadata": {
        "id": "XvoEo5i-jQGC"
      },
      "source": [
        "#### 3. What is the benefit of grouping resources into classes when using Puppet?"
      ]
    },
    {
      "cell_type": "markdown",
      "metadata": {
        "id": "9LLXBJ1ZX5tv"
      },
      "source": [
        "`Configuration management is simplified`. Grouping a collection of related resources into a single class simplifies configuration management by, for one example, allowing us to apply a single class to each host rather than having to specify every resource for each host separately and possibly missing some."
      ]
    },
    {
      "cell_type": "markdown",
      "metadata": {
        "id": "lukL170ojmHO"
      },
      "source": [
        "#### 4. What defines which provider will be used for a particular resource?"
      ]
    },
    {
      "cell_type": "markdown",
      "metadata": {
        "id": "PmM9_4xduLFU"
      },
      "source": [
        "`Puppet assigns providers based on the resource type and data collected from the system`. Puppet assigns providers according to predefined rules for the resource type and data collected from the system such as the family of the underlying operating system."
      ]
    },
    {
      "cell_type": "markdown",
      "metadata": {
        "id": "V2KCU9oLFPEZ"
      },
      "source": [
        "#### 5. In Puppet’s file resource type, which attribute overwrites content that already exists?"
      ]
    },
    {
      "cell_type": "markdown",
      "metadata": {
        "id": "izQmFJ6RYE6p"
      },
      "source": [
        "`Replace`. Puppet has many useful attributes. \"Replace\" set to True tells Puppet to replace files or symlinks that already exist on the local system but whose content doesn’t match what the source or content attribute specifies."
      ]
    }
  ]
}