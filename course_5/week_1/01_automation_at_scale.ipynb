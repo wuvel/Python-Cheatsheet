{
  "nbformat": 4,
  "nbformat_minor": 0,
  "metadata": {
    "colab": {
      "name": "Untitled0.ipynb",
      "provenance": []
    },
    "kernelspec": {
      "name": "python3",
      "display_name": "Python 3"
    }
  },
  "cells": [
    {
      "cell_type": "markdown",
      "metadata": {
        "id": "U3AVhcVodWXU"
      },
      "source": [
        "# **Practice Quiz: Automation at Scale**\r\n",
        "\r\n",
        "\r\n",
        "---\r\n",
        "\r\n"
      ]
    },
    {
      "cell_type": "markdown",
      "metadata": {
        "id": "cW26w3nYdely"
      },
      "source": [
        "#### 1. What is IaC (Infrastructure as Code)?"
      ]
    },
    {
      "cell_type": "markdown",
      "metadata": {
        "id": "pOw0TUsdZM26"
      },
      "source": [
        "`Using a version control system to deploy and manage node configurations`. IaC goes hand in hand with continuous delivery."
      ]
    },
    {
      "cell_type": "markdown",
      "metadata": {
        "id": "bAaDaynijIFL"
      },
      "source": [
        "#### 2. What is the principle called when you think of networked machines as interchangeable resources instead of individual machines?"
      ]
    },
    {
      "cell_type": "markdown",
      "metadata": {
        "id": "ZMT3lPyNX0RQ"
      },
      "source": [
        "`Treating computers like \"cattle instead of pets\"`. This means no node is irreplaceable and configuration is automated. "
      ]
    },
    {
      "cell_type": "markdown",
      "metadata": {
        "id": "XvoEo5i-jQGC"
      },
      "source": [
        "#### 3. What benefits can we gain by using automation to manage our configuration? (Check all that apply)"
      ]
    },
    {
      "cell_type": "markdown",
      "metadata": {
        "id": "9LLXBJ1ZX5tv"
      },
      "source": [
        "- `Consistency`. When a configuration or process doesn't depend on a human remembering to follow all the necessary steps, the result will always be the same.\r\n",
        "- `Reliability`. Because automation breeds consistency, when we know a particular process that has been automated works, we can count on it working every time as long as everything remains the same.\r\n",
        "- `Scalability`. A scalable system is a flexible system that can handle extra tasks or integrate extra resources easily."
      ]
    },
    {
      "cell_type": "markdown",
      "metadata": {
        "id": "lukL170ojmHO"
      },
      "source": [
        "#### 4. Puppet is a commonly used configuration management system. Which of the following applications are also used for configuration management?"
      ]
    },
    {
      "cell_type": "markdown",
      "metadata": {
        "id": "PmM9_4xduLFU"
      },
      "source": [
        "- `Chef`. Chef is a configuration management system that treats configuration as code.\r\n",
        "- `Ansible`. Ansible is an open source IT Configuration Management, Deployment & Orchestration tool which aims to provide a wide variety of automation challenges with huge productivity gains.\r\n",
        "- `CFEngine`. CFEngine is an open-source configuration management program that offers automated configuration and maintenance of large-scale computing networks, including centralized cloud, desktop, consumer and industrial application control, embedded networked applications, handheld smartphones, and tablet computers."
      ]
    },
    {
      "cell_type": "markdown",
      "metadata": {
        "id": "V2KCU9oLFPEZ"
      },
      "source": [
        "#### 5. A network administrator is accustomed to manually configuring the 5 nodes on the network he manages. However, the company he works for is quickly growing, and there are plans to expand the network to 200 nodes. What is the most reasonable course of action for the network administrator?"
      ]
    },
    {
      "cell_type": "markdown",
      "metadata": {
        "id": "izQmFJ6RYE6p"
      },
      "source": [
        "`Prepare scripts or download software for automated configuration`. We can write automation scripts ourselves or we can use some sort of configuration management software to make our network scalable by pushing changes from a control server."
      ]
    }
  ]
}