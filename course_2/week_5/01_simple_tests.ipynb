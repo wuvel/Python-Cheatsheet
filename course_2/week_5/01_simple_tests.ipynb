{
  "nbformat": 4,
  "nbformat_minor": 0,
  "metadata": {
    "colab": {
      "name": "Untitled0.ipynb",
      "provenance": []
    },
    "kernelspec": {
      "name": "python3",
      "display_name": "Python 3"
    }
  },
  "cells": [
    {
      "cell_type": "markdown",
      "metadata": {
        "id": "U3AVhcVodWXU"
      },
      "source": [
        "# **Practice Quiz: Simple Tests**\r\n",
        "\r\n",
        "\r\n",
        "---\r\n",
        "\r\n"
      ]
    },
    {
      "cell_type": "markdown",
      "metadata": {
        "id": "cW26w3nYdely"
      },
      "source": [
        "#### 1. You can verify that software code behaves correctly using test ___."
      ]
    },
    {
      "cell_type": "markdown",
      "metadata": {
        "id": "pOw0TUsdZM26"
      },
      "source": [
        "`Cases`. The software code should behave the way you expect with as many possible values or test cases. "
      ]
    },
    {
      "cell_type": "markdown",
      "metadata": {
        "id": "bAaDaynijIFL"
      },
      "source": [
        "#### 2. What is the most basic way of testing a script?"
      ]
    },
    {
      "cell_type": "markdown",
      "metadata": {
        "id": "8qTlftDMZR7S"
      },
      "source": [
        "`Different parameters with expected results`. The most basic way of testing a script is to use different parameters and get the expected results."
      ]
    },
    {
      "cell_type": "markdown",
      "metadata": {
        "id": "XvoEo5i-jQGC"
      },
      "source": [
        "#### 3. When a test is codified into its own software, what kind of test is it?"
      ]
    },
    {
      "cell_type": "markdown",
      "metadata": {
        "id": "n4q_oXWnw41j"
      },
      "source": [
        "`Automatic test`. Codifying tests into its own software and code that can be run to verify that our programs do what we expect them to do is automatic testing."
      ]
    },
    {
      "cell_type": "markdown",
      "metadata": {
        "id": "lukL170ojmHO"
      },
      "source": [
        "#### 4. Using _____ simplifies the testing process, allowing us to verify the program's behavior repeatedly with many possible values."
      ]
    },
    {
      "cell_type": "markdown",
      "metadata": {
        "id": "PmM9_4xduLFU"
      },
      "source": [
        "`test cases`. Test cases automatically test with a range of possible values to verify the program’s behavior."
      ]
    },
    {
      "cell_type": "markdown",
      "metadata": {
        "id": "IhtrNGOhjsd_"
      },
      "source": [
        "#### 5. The more complex our code becomes, the more value the use of _____ provides in managing errors."
      ]
    },
    {
      "cell_type": "markdown",
      "metadata": {
        "id": "Dfg0V8AkZhrw"
      },
      "source": [
        "`software testing`. Software testing is the process of evaluating computer code to determine whether or not it does what you expect it to do, and the more complex the code, the more likely failure is."
      ]
    }
  ]
}