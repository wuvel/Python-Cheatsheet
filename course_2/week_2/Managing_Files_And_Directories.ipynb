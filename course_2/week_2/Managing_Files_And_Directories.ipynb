{
  "nbformat": 4,
  "nbformat_minor": 0,
  "metadata": {
    "colab": {
      "name": "Untitled0.ipynb",
      "provenance": []
    },
    "kernelspec": {
      "name": "python3",
      "display_name": "Python 3"
    }
  },
  "cells": [
    {
      "cell_type": "markdown",
      "metadata": {
        "id": "U3AVhcVodWXU"
      },
      "source": [
        "# **Practice Quiz: Managing Files & Directories**\r\n"
      ]
    },
    {
      "cell_type": "markdown",
      "metadata": {
        "id": "cW26w3nYdely"
      },
      "source": [
        "1. The create_python_script function creates a new python script in the current working directory, adds the line of comments to it declared  by the 'comments' variable, and returns the size of the new file. Fill in the gaps to create a script called \"program.py\"."
      ]
    },
    {
      "cell_type": "code",
      "metadata": {
        "colab": {
          "base_uri": "https://localhost:8080/"
        },
        "id": "t_VuGnbbdTja",
        "outputId": "6552886d-b6ef-4a8e-984f-d118fdc958cf"
      },
      "source": [
        "def create_python_script(filename):\r\n",
        "  comments = \"# Start of a new Python program\"\r\n",
        "  with open(filename, 'w') as file:\r\n",
        "    file.write(comments)\r\n",
        "    filesize = file.tell()\r\n",
        "  return(filesize)\r\n",
        "\r\n",
        "print(create_python_script(\"program.py\"))"
      ],
      "execution_count": 1,
      "outputs": [
        {
          "output_type": "stream",
          "text": [
            "31\n"
          ],
          "name": "stdout"
        }
      ]
    },
    {
      "cell_type": "markdown",
      "metadata": {
        "id": "bAaDaynijIFL"
      },
      "source": [
        "2. The new_directory function creates a new directory inside the current working directory, then creates a new empty file inside the new directory, and returns the list of files in that directory. Fill in the gaps to create a file \"script.py\" in the directory \"PythonPrograms\". "
      ]
    },
    {
      "cell_type": "code",
      "metadata": {
        "colab": {
          "base_uri": "https://localhost:8080/"
        },
        "id": "56nkeXhGjMPn",
        "outputId": "fc984e08-d390-4605-b533-28dbbb38e23f"
      },
      "source": [
        "import os\r\n",
        "\r\n",
        "def new_directory(directory, filename):\r\n",
        "  # Before creating a new directory, check to see if it already exists\r\n",
        "  if os.path.isdir(directory) == False:\r\n",
        "    os.mkdir(directory)\r\n",
        "\r\n",
        "  # Create the new file inside of the new directory\r\n",
        "  os.chdir(directory)\r\n",
        "  with open (filename, 'w') as file:\r\n",
        "    file.write(\"\")\r\n",
        "\r\n",
        "  # Return the list of files in the new directory\r\n",
        "  return os.listdir()\r\n",
        "\r\n",
        "print(new_directory(\"PythonPrograms\", \"script.py\"))"
      ],
      "execution_count": 2,
      "outputs": [
        {
          "output_type": "stream",
          "text": [
            "['script.py']\n"
          ],
          "name": "stdout"
        }
      ]
    },
    {
      "cell_type": "markdown",
      "metadata": {
        "id": "XvoEo5i-jQGC"
      },
      "source": [
        "3. Which of the following methods from the os module will create a new directory?"
      ]
    },
    {
      "cell_type": "markdown",
      "metadata": {
        "id": "r5V-KodHjRcm"
      },
      "source": [
        "\r\n",
        "**mkdir()**"
      ]
    },
    {
      "cell_type": "markdown",
      "metadata": {
        "id": "lukL170ojmHO"
      },
      "source": [
        "4. The file_date function creates a new file in the current working directory, checks the date that the file was modified, and returns just the date portion of the timestamp in the format of yyyy-mm-dd. Fill in the gaps to create a file called \"newfile.txt\" and check the date that it was modified."
      ]
    },
    {
      "cell_type": "code",
      "metadata": {
        "colab": {
          "base_uri": "https://localhost:8080/"
        },
        "id": "X9JnRHpxjo4D",
        "outputId": "35e4cb8b-3296-4021-d5bf-c33ab8c1670e"
      },
      "source": [
        "import os\r\n",
        "import datetime\r\n",
        "from datetime import date\r\n",
        "\r\n",
        "def file_date(filename):\r\n",
        "  # Create the file in the current directory\r\n",
        "  with open(filename, 'w') as file:\r\n",
        "    file.write(\"\")\r\n",
        "  timestamp = os.path.getmtime(filename)\r\n",
        "  # Convert the timestamp into a readable format, then into a string\r\n",
        "  converted_timestamp = datetime.datetime.fromtimestamp(timestamp)\r\n",
        "  result = date(converted_timestamp.year, converted_timestamp.month, converted_timestamp.day).isoformat()\r\n",
        "  # Return just the date portion \r\n",
        "  # Hint: how many characters are in “yyyy-mm-dd”? \r\n",
        "  return (\"{}\".format(result))\r\n",
        "\r\n",
        "print(file_date(\"newfile.txt\")) \r\n",
        "# Should be today's date in the format of yyyy-mm-dd"
      ],
      "execution_count": 3,
      "outputs": [
        {
          "output_type": "stream",
          "text": [
            "2021-02-25\n"
          ],
          "name": "stdout"
        }
      ]
    },
    {
      "cell_type": "markdown",
      "metadata": {
        "id": "IhtrNGOhjsd_"
      },
      "source": [
        "5. The parent_directory function returns the name of the directory that's located just above the current working directory. Remember that '..' is a relative path alias that means \"go up to the parent directory\". Fill in the gaps to complete this function."
      ]
    },
    {
      "cell_type": "code",
      "metadata": {
        "colab": {
          "base_uri": "https://localhost:8080/"
        },
        "id": "gzL4zGWkjsJT",
        "outputId": "181b8f4f-8eee-428e-d303-d8109e586b86"
      },
      "source": [
        "import os\r\n",
        "def parent_directory():\r\n",
        "  # Create a relative path to the parent \r\n",
        "  # of the current working directory \r\n",
        "  relative_parent = os.path.join(\"..\", os.path.dirname(os.getcwd()))\r\n",
        "\r\n",
        "  # Return the absolute path of the parent directory\r\n",
        "  return relative_parent\r\n",
        "\r\n",
        "print(parent_directory())"
      ],
      "execution_count": 4,
      "outputs": [
        {
          "output_type": "stream",
          "text": [
            "/content\n"
          ],
          "name": "stdout"
        }
      ]
    }
  ]
}