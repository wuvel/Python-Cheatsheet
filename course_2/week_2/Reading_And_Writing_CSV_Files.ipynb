{
  "nbformat": 4,
  "nbformat_minor": 0,
  "metadata": {
    "colab": {
      "name": "Untitled0.ipynb",
      "provenance": []
    },
    "kernelspec": {
      "name": "python3",
      "display_name": "Python 3"
    }
  },
  "cells": [
    {
      "cell_type": "markdown",
      "metadata": {
        "id": "U3AVhcVodWXU"
      },
      "source": [
        "# **Practice Quiz: Managing Files & Directories**\r\n"
      ]
    },
    {
      "cell_type": "markdown",
      "metadata": {
        "id": "cW26w3nYdely"
      },
      "source": [
        "### 1. We're working with a list of flowers and some information about each one. The create_file function writes this information to a CSV file. The contents_of_file function reads this file into records and returns the information in a nicely formatted block. Fill in the gaps of the contents_of_file function to turn the data in the CSV file into a dictionary using DictReader."
      ]
    },
    {
      "cell_type": "code",
      "metadata": {
        "colab": {
          "base_uri": "https://localhost:8080/"
        },
        "id": "t_VuGnbbdTja",
        "outputId": "04d45c43-8fe1-45d1-e827-7850f3f33636"
      },
      "source": [
        "import os\r\n",
        "import csv\r\n",
        "\r\n",
        "# Create a file with data in it\r\n",
        "def create_file(filename):\r\n",
        "  with open(filename, \"w\") as file:\r\n",
        "    file.write(\"name,color,type\\n\")\r\n",
        "    file.write(\"carnation,pink,annual\\n\")\r\n",
        "    file.write(\"daffodil,yellow,perennial\\n\")\r\n",
        "    file.write(\"iris,blue,perennial\\n\")\r\n",
        "    file.write(\"poinsettia,red,perennial\\n\")\r\n",
        "    file.write(\"sunflower,yellow,annual\\n\")\r\n",
        "\r\n",
        "# Read the file contents and format the information about each row\r\n",
        "def contents_of_file(filename):\r\n",
        "  return_string = \"\"\r\n",
        "\r\n",
        "  # Call the function to create the file \r\n",
        "  create_file(filename)\r\n",
        "\r\n",
        "  # Open the file\r\n",
        "  with open(filename) as csv_file:\r\n",
        "    # Read the rows of the file into a dictionary\r\n",
        "    rows = csv.DictReader(csv_file)\r\n",
        "    # Process each item of the dictionary\r\n",
        "    for row in rows:\r\n",
        "      return_string += \"a {} {} is {}\\n\".format(row[\"color\"], row[\"name\"], row[\"type\"])\r\n",
        "  return return_string\r\n",
        "\r\n",
        "#Call the function\r\n",
        "print(contents_of_file(\"flowers.csv\"))"
      ],
      "execution_count": 3,
      "outputs": [
        {
          "output_type": "stream",
          "text": [
            "a pink carnation is annual\n",
            "a yellow daffodil is perennial\n",
            "a blue iris is perennial\n",
            "a red poinsettia is perennial\n",
            "a yellow sunflower is annual\n",
            "\n"
          ],
          "name": "stdout"
        }
      ]
    },
    {
      "cell_type": "markdown",
      "metadata": {
        "id": "bAaDaynijIFL"
      },
      "source": [
        "### 2. Using the CSV file of flowers again, fill in the gaps of the contents_of_file function to process the data without turning it into a dictionary. How do you skip over the header record with the field names?"
      ]
    },
    {
      "cell_type": "code",
      "metadata": {
        "colab": {
          "base_uri": "https://localhost:8080/"
        },
        "id": "56nkeXhGjMPn",
        "outputId": "ac961775-22c2-4b66-bf88-7bb33b905418"
      },
      "source": [
        "import os\r\n",
        "import csv\r\n",
        "\r\n",
        "# Create a file with data in it\r\n",
        "def create_file(filename):\r\n",
        "  with open(filename, \"w\") as file:\r\n",
        "    file.write(\"name,color,type\\n\")\r\n",
        "    file.write(\"carnation,pink,annual\\n\")\r\n",
        "    file.write(\"daffodil,yellow,perennial\\n\")\r\n",
        "    file.write(\"iris,blue,perennial\\n\")\r\n",
        "    file.write(\"poinsettia,red,perennial\\n\")\r\n",
        "    file.write(\"sunflower,yellow,annual\\n\")\r\n",
        "\r\n",
        "# Read the file contents and format the information about each row\r\n",
        "def contents_of_file(filename):\r\n",
        "  return_string = \"\"\r\n",
        "\r\n",
        "  # Call the function to create the file \r\n",
        "  create_file(filename)\r\n",
        "\r\n",
        "  # Open the file\r\n",
        "  with open(filename) as csv_file:\r\n",
        "    # Read the rows of the file\r\n",
        "    rows = csv.reader(csv_file)\r\n",
        "    # Process each row\r\n",
        "    for row in rows:\r\n",
        "      name, color, type_name = row\r\n",
        "      \r\n",
        "      if(row[0] == \"name\"):\r\n",
        "        pass\r\n",
        "      else:\r\n",
        "        return_string += \"a {} {} is {}\\n\".format(color, name, type_name)\r\n",
        "\r\n",
        "      # Format the return string for data rows only\r\n",
        "  return return_string\r\n",
        "\r\n",
        "#Call the function\r\n",
        "print(contents_of_file(\"flowers.csv\"))"
      ],
      "execution_count": 2,
      "outputs": [
        {
          "output_type": "stream",
          "text": [
            "a pink carnation is annual\n",
            "a yellow daffodil is perennial\n",
            "a blue iris is perennial\n",
            "a red poinsettia is perennial\n",
            "a yellow sunflower is annual\n",
            "\n"
          ],
          "name": "stdout"
        }
      ]
    },
    {
      "cell_type": "markdown",
      "metadata": {
        "id": "XvoEo5i-jQGC"
      },
      "source": [
        "### 3. In order to use the writerows() function of DictWriter() to write a list of dictionaries to each line of a CSV file, what steps should we take? (Check all that apply)"
      ]
    },
    {
      "cell_type": "markdown",
      "metadata": {
        "id": "r5V-KodHjRcm"
      },
      "source": [
        "\r\n",
        "**Create an instance of the DictWriter() class, Write the fieldnames parameter into the first row using writeheader(), Open the csv file using with open**"
      ]
    },
    {
      "cell_type": "markdown",
      "metadata": {
        "id": "lukL170ojmHO"
      },
      "source": [
        "### 4. Which of the following is true about unpacking values into variables when reading rows of a CSV file? (Check all that apply)"
      ]
    },
    {
      "cell_type": "markdown",
      "metadata": {
        "id": "v0DlzvvprLXT"
      },
      "source": [
        "**We need the same amount of variables as there are columns of data in the CSV, Rows can be read using both csv.reader and csv.DictReader, An instance of the reader class must be created first**"
      ]
    },
    {
      "cell_type": "markdown",
      "metadata": {
        "id": "IhtrNGOhjsd_"
      },
      "source": [
        "### 5. If we are analyzing a file's contents to correctly structure its data, what action are we performing on the file?"
      ]
    },
    {
      "cell_type": "markdown",
      "metadata": {
        "id": "y0aWRsHkrqnm"
      },
      "source": [
        "**Parsing**"
      ]
    }
  ]
}