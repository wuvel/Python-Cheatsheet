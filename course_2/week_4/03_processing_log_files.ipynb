{
  "nbformat": 4,
  "nbformat_minor": 0,
  "metadata": {
    "colab": {
      "name": "Untitled0.ipynb",
      "provenance": []
    },
    "kernelspec": {
      "name": "python3",
      "display_name": "Python 3"
    }
  },
  "cells": [
    {
      "cell_type": "markdown",
      "metadata": {
        "id": "U3AVhcVodWXU"
      },
      "source": [
        "# **Practice Quiz: Processing Log Files**\r\n",
        "\r\n",
        "\r\n",
        "---\r\n",
        "\r\n"
      ]
    },
    {
      "cell_type": "markdown",
      "metadata": {
        "id": "cW26w3nYdely"
      },
      "source": [
        "#### 1. You have created a Python script to read a log of users running CRON jobs. The script needs to accept a command line argument for the path to the log file. Which line of code accomplishes this?"
      ]
    },
    {
      "cell_type": "markdown",
      "metadata": {
        "id": "pOw0TUsdZM26"
      },
      "source": [
        "`syslog=sys.argv[1]`. This will assign the script's first command line argument to the variable \"syslog\"."
      ]
    },
    {
      "cell_type": "markdown",
      "metadata": {
        "id": "bAaDaynijIFL"
      },
      "source": [
        "#### 2. Which of the following is a data structure that can be used to count how many times a specific error appears in a log?"
      ]
    },
    {
      "cell_type": "markdown",
      "metadata": {
        "id": "8qTlftDMZR7S"
      },
      "source": [
        "`Dictionary`. A dictionary is useful to count appearances of strings."
      ]
    },
    {
      "cell_type": "markdown",
      "metadata": {
        "id": "XvoEo5i-jQGC"
      },
      "source": [
        "#### 3. Which keyword will return control back to the top of a loop when iterating through logs?"
      ]
    },
    {
      "cell_type": "markdown",
      "metadata": {
        "id": "n4q_oXWnw41j"
      },
      "source": [
        "`Continue`. The continue statement is used to return control back to the top of a loop."
      ]
    },
    {
      "cell_type": "markdown",
      "metadata": {
        "id": "lukL170ojmHO"
      },
      "source": [
        "#### 4. When searching log files using regex, which regex statement will search for the alphanumeric word \"IP\" followed by one or more digits wrapped in parentheses using a capturing group?"
      ]
    },
    {
      "cell_type": "markdown",
      "metadata": {
        "id": "PmM9_4xduLFU"
      },
      "source": [
        "`r\"IP \\((\\d+)\\)$\"`. This expression will search for the word \"IP\" followed by a space and parentheses. It uses a capture group and \\d+ to capture any digit characters found in the parentheses."
      ]
    },
    {
      "cell_type": "markdown",
      "metadata": {
        "id": "IhtrNGOhjsd_"
      },
      "source": [
        "#### 5. Which of the following are true about parsing log files? (Select all that apply.)"
      ]
    },
    {
      "cell_type": "markdown",
      "metadata": {
        "id": "Dfg0V8AkZhrw"
      },
      "source": [
        "- `You should parse log files line by line`. Since log files can get pretty large, it's a good idea to parse them one line at a time instead of loading the entire file into memory at once.\r\n",
        "- `It is efficient to ignore lines that don't contain the information we need`. We can save a lot of time by not parsing lines that don't contain what we need.\r\n",
        "- `We have to open() the log files first`. Before we can parse our log file, we have to use the open() or with open() command on the file first."
      ]
    }
  ]
}