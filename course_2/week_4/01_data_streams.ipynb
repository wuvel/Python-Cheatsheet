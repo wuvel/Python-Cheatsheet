{
  "nbformat": 4,
  "nbformat_minor": 0,
  "metadata": {
    "colab": {
      "name": "Untitled0.ipynb",
      "provenance": []
    },
    "kernelspec": {
      "name": "python3",
      "display_name": "Python 3"
    }
  },
  "cells": [
    {
      "cell_type": "markdown",
      "metadata": {
        "id": "U3AVhcVodWXU"
      },
      "source": [
        "# **Practice Quiz: Data Streams**\r\n",
        "\r\n",
        "\r\n",
        "---\r\n",
        "\r\n"
      ]
    },
    {
      "cell_type": "markdown",
      "metadata": {
        "id": "cW26w3nYdely"
      },
      "source": [
        "#### 1. Which command will print out the exit value of a script that just ran successfully?"
      ]
    },
    {
      "cell_type": "markdown",
      "metadata": {
        "id": "pOw0TUsdZM26"
      },
      "source": [
        "`echo $?`. Echo will print out the exit value (question mark variable) of a script that just ran successfully."
      ]
    },
    {
      "cell_type": "markdown",
      "metadata": {
        "id": "bAaDaynijIFL"
      },
      "source": [
        "#### 2. Which command will create a new environment variable?"
      ]
    },
    {
      "cell_type": "markdown",
      "metadata": {
        "id": "8qTlftDMZR7S"
      },
      "source": [
        "`export`. This command will create a new environment variable, and give it a value."
      ]
    },
    {
      "cell_type": "markdown",
      "metadata": {
        "id": "XvoEo5i-jQGC"
      },
      "source": [
        "#### 3. Which I/O stream are we using when we use the input function to accept user input in a Python script?"
      ]
    },
    {
      "cell_type": "markdown",
      "metadata": {
        "id": "n4q_oXWnw41j"
      },
      "source": [
        "`STDIN`. STDIN is the standard I/O stream for input."
      ]
    },
    {
      "cell_type": "markdown",
      "metadata": {
        "id": "lukL170ojmHO"
      },
      "source": [
        "#### 4. What is the meaning of an exit code of 0?"
      ]
    },
    {
      "cell_type": "markdown",
      "metadata": {
        "id": "m7HzL01EZdLM"
      },
      "source": [
        "`The program ended successfully`. An exit value of 0 always indicates the program exited without error."
      ]
    },
    {
      "cell_type": "markdown",
      "metadata": {
        "id": "IhtrNGOhjsd_"
      },
      "source": [
        "#### 5. Which statements are true about  input and raw_input in Python 2? (select all that apply)"
      ]
    },
    {
      "cell_type": "markdown",
      "metadata": {
        "id": "Dfg0V8AkZhrw"
      },
      "source": [
        "- `input performs basic math operations`. In Python 2, input evaluates the user's input as an expression.\r\n",
        "- `raw_input gets a string from the user`. raw_input gets a raw string from the user."
      ]
    }
  ]
}