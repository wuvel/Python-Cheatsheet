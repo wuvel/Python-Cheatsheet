{
  "nbformat": 4,
  "nbformat_minor": 0,
  "metadata": {
    "colab": {
      "name": "Untitled0.ipynb",
      "provenance": []
    },
    "kernelspec": {
      "name": "python3",
      "display_name": "Python 3"
    }
  },
  "cells": [
    {
      "cell_type": "markdown",
      "metadata": {
        "id": "U3AVhcVodWXU"
      },
      "source": [
        "# **Practice Quiz: Python Subprocesses**\r\n",
        "\r\n",
        "\r\n",
        "---\r\n",
        "\r\n"
      ]
    },
    {
      "cell_type": "markdown",
      "metadata": {
        "id": "cW26w3nYdely"
      },
      "source": [
        "#### 1. What type of object does a run function return?"
      ]
    },
    {
      "cell_type": "markdown",
      "metadata": {
        "id": "pOw0TUsdZM26"
      },
      "source": [
        "`CompletedProcess`. This object includes information related to the execution of a command."
      ]
    },
    {
      "cell_type": "markdown",
      "metadata": {
        "id": "bAaDaynijIFL"
      },
      "source": [
        "#### 2. How can you change the current working directory where a command will be executed?"
      ]
    },
    {
      "cell_type": "markdown",
      "metadata": {
        "id": "8qTlftDMZR7S"
      },
      "source": [
        "`Use the cwd parameter`. This will change the current working directory where the command will be executed."
      ]
    },
    {
      "cell_type": "markdown",
      "metadata": {
        "id": "XvoEo5i-jQGC"
      },
      "source": [
        "#### 3. When a child process is run using the subprocess module, which of the following are true? (check all that apply)"
      ]
    },
    {
      "cell_type": "markdown",
      "metadata": {
        "id": "n4q_oXWnw41j"
      },
      "source": [
        "- `The child process is run in a secondary environment`. To run the external command, a secondary environment is created for the child subprocess, where the command is executed.\r\n",
        "- `The parent process is blocked while the child process finishes`. While the parent process is waiting on the subprocess to finish, it’s blocked, meaning the parent can’t do any work until the child finishes.\r\n",
        "- `Control is returned to the parent process when the child process ends`. After the external command completes its work, the child process exits, and the flow of control returns to the parent."
      ]
    },
    {
      "cell_type": "markdown",
      "metadata": {
        "id": "lukL170ojmHO"
      },
      "source": [
        "#### 4. When using the run command of the subprocess module, what parameter, when set to True, allows us to store the output of a system command?"
      ]
    },
    {
      "cell_type": "markdown",
      "metadata": {
        "id": "m7HzL01EZdLM"
      },
      "source": [
        "`capture_output`. The capture_output parameter allows us to get and store the output of the system command we're using."
      ]
    },
    {
      "cell_type": "markdown",
      "metadata": {
        "id": "IhtrNGOhjsd_"
      },
      "source": [
        "#### 5. What does the copy method of os.environ do?"
      ]
    },
    {
      "cell_type": "markdown",
      "metadata": {
        "id": "Dfg0V8AkZhrw"
      },
      "source": [
        "`Creates a new dictionary of environment variables`. The copy method of os.environ makes a new copy of the dictionary containing the environment variables, making modification easier."
      ]
    }
  ]
}