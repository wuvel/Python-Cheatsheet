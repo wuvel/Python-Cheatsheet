{
  "nbformat": 4,
  "nbformat_minor": 0,
  "metadata": {
    "colab": {
      "name": "Untitled0.ipynb",
      "provenance": []
    },
    "kernelspec": {
      "name": "python3",
      "display_name": "Python 3"
    }
  },
  "cells": [
    {
      "cell_type": "markdown",
      "metadata": {
        "id": "U3AVhcVodWXU"
      },
      "source": [
        "# **Practice Quiz: Running Python Locally**\r\n",
        "\r\n",
        "\r\n",
        "---\r\n",
        "\r\n"
      ]
    },
    {
      "cell_type": "markdown",
      "metadata": {
        "id": "cW26w3nYdely"
      },
      "source": [
        "#### 1. When your IDE automatically creates an indent for you, this is known as what?"
      ]
    },
    {
      "cell_type": "markdown",
      "metadata": {
        "id": "c2z7MnDPR8zg"
      },
      "source": [
        "\r\n",
        "`Code completion`. Code completion is an IDE feature that takes educated guesses about what you might be trying to type next, and offers suggestions to complete it for you."
      ]
    },
    {
      "cell_type": "markdown",
      "metadata": {
        "id": "bAaDaynijIFL"
      },
      "source": [
        "#### 2. Can you identify the error in the following code?"
      ]
    },
    {
      "cell_type": "code",
      "metadata": {
        "id": "-vN26XYCWZ3X"
      },
      "source": [
        "#!/usr/bin/env python3\r\n",
        "import numpy as np\r\n",
        "\r\n",
        "def numpyArray():\r\n",
        "    x = np.array([[1, 2, 3], [4, 5, 6]], np.int32)\r\n",
        "    y = numpy.array([[3, 6, 2], [9, 12, 8]], np.int32)\r\n",
        "    return x*y\r\n",
        "print(numpyArray())\r\n"
      ],
      "execution_count": null,
      "outputs": []
    },
    {
      "cell_type": "markdown",
      "metadata": {
        "id": "E27RqXy-SCpO"
      },
      "source": [
        "`The y variable is not calling the numpy module properly`. While the x variable is calling numpy using its declared local name, y is not using the local name. This will result in an error."
      ]
    },
    {
      "cell_type": "markdown",
      "metadata": {
        "id": "XvoEo5i-jQGC"
      },
      "source": [
        "#### 3. Which type of programming language is read and converted to machine code before runtime, allowing for more efficient code?"
      ]
    },
    {
      "cell_type": "markdown",
      "metadata": {
        "id": "r5V-KodHjRcm"
      },
      "source": [
        "`Compiled language`. A compiled language is translated into code readable by the target machine during development using a compiler."
      ]
    },
    {
      "cell_type": "markdown",
      "metadata": {
        "id": "lukL170ojmHO"
      },
      "source": [
        "#### 4. Which of the following is not an IDE or code editor?"
      ]
    },
    {
      "cell_type": "markdown",
      "metadata": {
        "id": "v0DlzvvprLXT"
      },
      "source": [
        "`pip`. The package manager pip is used in Python to install packages from repositories such as PyPI."
      ]
    },
    {
      "cell_type": "markdown",
      "metadata": {
        "id": "IhtrNGOhjsd_"
      },
      "source": [
        "#### 5. What does the PATH variable do?"
      ]
    },
    {
      "cell_type": "markdown",
      "metadata": {
        "id": "y0aWRsHkrqnm"
      },
      "source": [
        "`Tells the operating system where to find executables`. The PATH variable tells the operating system where to find executables."
      ]
    }
  ]
}