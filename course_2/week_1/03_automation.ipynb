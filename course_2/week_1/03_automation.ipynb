{
  "nbformat": 4,
  "nbformat_minor": 0,
  "metadata": {
    "colab": {
      "name": "Untitled0.ipynb",
      "provenance": []
    },
    "kernelspec": {
      "name": "python3",
      "display_name": "Python 3"
    }
  },
  "cells": [
    {
      "cell_type": "markdown",
      "metadata": {
        "id": "U3AVhcVodWXU"
      },
      "source": [
        "# **Practice Quiz: Automation**\r\n",
        "\r\n",
        "\r\n",
        "---\r\n",
        "\r\n"
      ]
    },
    {
      "cell_type": "markdown",
      "metadata": {
        "id": "cW26w3nYdely"
      },
      "source": [
        "#### 1. At a manufacturing plant, an employee spends several minutes each hour noting uptime and downtime for each of the machines they are running. Which of the following ideas would best automate this process?"
      ]
    },
    {
      "cell_type": "markdown",
      "metadata": {
        "id": "c2z7MnDPR8zg"
      },
      "source": [
        "\r\n",
        "`Add an analog Internet of Things (IoT) module to each machine, in order to detect their power states, and write a script that records uptime and downtime, reporting hourly`. This is a practical application of using Python (and some extra hardware, in this case) to automate a task, freeing up a human's time. The solutions can be complex if the return in saved human time warrants it."
      ]
    },
    {
      "cell_type": "markdown",
      "metadata": {
        "id": "bAaDaynijIFL"
      },
      "source": [
        "#### 2. One important aspect of automation is forensic value. Which of the following statements describes this term correctly?"
      ]
    },
    {
      "cell_type": "markdown",
      "metadata": {
        "id": "E27RqXy-SCpO"
      },
      "source": [
        "`It is important for automated processes to leave extensive logs so when errors occur, they can be properly investigated`. Forensic value, in relation to automation, is the value we get while debugging from properly logging every action our automation scripts take."
      ]
    },
    {
      "cell_type": "markdown",
      "metadata": {
        "id": "XvoEo5i-jQGC"
      },
      "source": [
        "#### 3. An employee at a technical support company is required to collate reports into a single file and send that file via email three times a day, five days a week for one month, on top of his other duties. It takes him about 15 minutes each time. He has discovered a way to automate the process, but it will take him at least 10 hours to code the automation script. Which of the following equations will help them decide whether it's worth automating the process?"
      ]
    },
    {
      "cell_type": "markdown",
      "metadata": {
        "id": "r5V-KodHjRcm"
      },
      "source": [
        "`if [10 hours to automate < (15 minutes * 60 times per month)] then automate`. With 10 hours to automate, the employee will start saving time before the month is over."
      ]
    },
    {
      "cell_type": "markdown",
      "metadata": {
        "id": "lukL170ojmHO"
      },
      "source": [
        "#### 4. A company is looking at automating one of their internal processes and wants to determine if automating a process would save labor time this year. The company uses the formula [time_to_automate < (time_to_perform * amount_of_times_done) to decide whether automation is worthwhile. The process normally takes about 10 minutes every week. The automation process itself will take 40 hours total to complete. Using the formula, how many weeks will it be before the company starts saving time on the process?"
      ]
    },
    {
      "cell_type": "markdown",
      "metadata": {
        "id": "v0DlzvvprLXT"
      },
      "source": [
        "`240 weeks`. It's safe to say that the company won't find it worth it's time to automate."
      ]
    },
    {
      "cell_type": "markdown",
      "metadata": {
        "id": "IhtrNGOhjsd_"
      },
      "source": [
        "#### 5. Which of the following are valid methods to prevent silent automation errors? (Check all that apply)"
      ]
    },
    {
      "cell_type": "markdown",
      "metadata": {
        "id": "y0aWRsHkrqnm"
      },
      "source": [
        "- `Email notifications about errors`. Email notifications for errors or task completions can help keep track of automated processes.\r\n",
        "- `Internal issue tracker entries`. Internal issue tracker entries are created as part of reporting on errors in our automation script in this lesson.\r\n",
        "- `Regular consistency checks`. Automated consistency checks, such as hash checks on backups, can help identify problems ahead of time."
      ]
    }
  ]
}