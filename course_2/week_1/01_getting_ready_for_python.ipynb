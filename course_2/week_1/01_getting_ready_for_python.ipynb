{
  "nbformat": 4,
  "nbformat_minor": 0,
  "metadata": {
    "colab": {
      "name": "Untitled0.ipynb",
      "provenance": []
    },
    "kernelspec": {
      "name": "python3",
      "display_name": "Python 3"
    }
  },
  "cells": [
    {
      "cell_type": "markdown",
      "metadata": {
        "id": "U3AVhcVodWXU"
      },
      "source": [
        "# **Practice Quiz: Getting Ready for Python**\r\n",
        "\r\n",
        "\r\n",
        "---\r\n",
        "\r\n"
      ]
    },
    {
      "cell_type": "markdown",
      "metadata": {
        "id": "cW26w3nYdely"
      },
      "source": [
        "#### 1. Which of the following is the most modern, up-to-date version of Python?"
      ]
    },
    {
      "cell_type": "markdown",
      "metadata": {
        "id": "c2z7MnDPR8zg"
      },
      "source": [
        "\r\n",
        "`Python 3`. Python 3 is the latest version of Python, with Python 3.8.0 being released on October 14, 2019."
      ]
    },
    {
      "cell_type": "markdown",
      "metadata": {
        "id": "bAaDaynijIFL"
      },
      "source": [
        "#### 2. Which of the following operating systems is compatible with Python 3?"
      ]
    },
    {
      "cell_type": "markdown",
      "metadata": {
        "id": "E27RqXy-SCpO"
      },
      "source": [
        "`All of the above (Redhat Linux, Microsoft Windows, Apple MacOS)`. Python is a cross-platform language. You can use it on Windows, macOS, Linux, and even on lesser-known Unix variants like FreeBSD."
      ]
    },
    {
      "cell_type": "markdown",
      "metadata": {
        "id": "XvoEo5i-jQGC"
      },
      "source": [
        "#### 3. Which of the following operating systems does not run on a Linux kernel?"
      ]
    },
    {
      "cell_type": "markdown",
      "metadata": {
        "id": "r5V-KodHjRcm"
      },
      "source": [
        "`Mac OS`. Mac OS is a proprietary operating system designed by Apple and uses a proprietary kernel based on BSD."
      ]
    },
    {
      "cell_type": "markdown",
      "metadata": {
        "id": "lukL170ojmHO"
      },
      "source": [
        "#### 4. If we want to check to see  what version of Python is installed, what would we type into the command line? Select all that apply."
      ]
    },
    {
      "cell_type": "markdown",
      "metadata": {
        "id": "v0DlzvvprLXT"
      },
      "source": [
        "- `python -V`. Typing `python -V` (note the capital V) at the command line will tell you if Python is currently installed and if so, what version.\r\n",
        "- `python --version`. Typing `python --version` (note the double dashes) at the command line will tell you if Python is currently installed and if so, what version."
      ]
    },
    {
      "cell_type": "markdown",
      "metadata": {
        "id": "IhtrNGOhjsd_"
      },
      "source": [
        "#### 5. What is pip an example of?"
      ]
    },
    {
      "cell_type": "markdown",
      "metadata": {
        "id": "y0aWRsHkrqnm"
      },
      "source": [
        "`A Python package manager`. pip is a command line tool commonly used as the main method of managing packages in Python."
      ]
    }
  ]
}