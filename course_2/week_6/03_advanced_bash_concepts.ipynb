{
  "nbformat": 4,
  "nbformat_minor": 0,
  "metadata": {
    "colab": {
      "name": "Untitled0.ipynb",
      "provenance": []
    },
    "kernelspec": {
      "name": "python3",
      "display_name": "Python 3"
    }
  },
  "cells": [
    {
      "cell_type": "markdown",
      "metadata": {
        "id": "U3AVhcVodWXU"
      },
      "source": [
        "# **Practice Quiz - Advanced Bash Concepts**\r\n",
        "\r\n",
        "\r\n",
        "---\r\n",
        "\r\n"
      ]
    },
    {
      "cell_type": "markdown",
      "metadata": {
        "id": "cW26w3nYdely"
      },
      "source": [
        "#### 1. Which command does the while loop initiate a task(s) after?"
      ]
    },
    {
      "cell_type": "markdown",
      "metadata": {
        "id": "pOw0TUsdZM26"
      },
      "source": [
        "`do`. Tasks to be performed are written after do."
      ]
    },
    {
      "cell_type": "markdown",
      "metadata": {
        "id": "bAaDaynijIFL"
      },
      "source": [
        "#### 2. Which line is correctly written to start a FOR loop with a sample.txt file?"
      ]
    },
    {
      "cell_type": "markdown",
      "metadata": {
        "id": "8qTlftDMZR7S"
      },
      "source": [
        "`for file in sample.txt; do`. The contents of sample.txt are loaded into a file variable which will do any specified task."
      ]
    },
    {
      "cell_type": "markdown",
      "metadata": {
        "id": "XvoEo5i-jQGC"
      },
      "source": [
        "#### 3. Which of the following Bash lines contains the condition of taking an action when n is less than or equal to 9?"
      ]
    },
    {
      "cell_type": "markdown",
      "metadata": {
        "id": "n4q_oXWnw41j"
      },
      "source": [
        "`while [ $n -le 9 ]; do`. This line will take an action when n is less than or equal to 9."
      ]
    },
    {
      "cell_type": "markdown",
      "metadata": {
        "id": "lukL170ojmHO"
      },
      "source": [
        "#### 4. Which of the following statements are true regarding Bash and Python? [Check all that apply]"
      ]
    },
    {
      "cell_type": "markdown",
      "metadata": {
        "id": "PmM9_4xduLFU"
      },
      "source": [
        "- `Complex scripts are better suited to Python`. When a script is complex, it's better to write it in a more general scripting language, like Python.\r\n",
        "- `Python can more easily operate on strings, lists, and dictionaries`. Bash scripts aren’t as flexible or robust as having the entire Python language available, with its many different functions to operate on strings, lists, and dictionaries.\r\n",
        "- `If a script requires testing, Python is preferable`. Because of the ease of testing and the fact that requiring testing implies complexity, Python is preferable for code requiring verification."
      ]
    },
    {
      "cell_type": "markdown",
      "metadata": {
        "id": "IhtrNGOhjsd_"
      },
      "source": [
        "#### 5. The _____ command lets us take only bits of each line using a field delimiter."
      ]
    },
    {
      "cell_type": "markdown",
      "metadata": {
        "id": "Dfg0V8AkZhrw"
      },
      "source": [
        "`cut`. The cut command lets us take only bits of each line using a field delimiter."
      ]
    }
  ]
}