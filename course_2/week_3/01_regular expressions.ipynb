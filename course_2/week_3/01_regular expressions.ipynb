{
  "nbformat": 4,
  "nbformat_minor": 0,
  "metadata": {
    "colab": {
      "name": "Untitled0.ipynb",
      "provenance": []
    },
    "kernelspec": {
      "name": "python3",
      "display_name": "Python 3"
    }
  },
  "cells": [
    {
      "cell_type": "markdown",
      "metadata": {
        "id": "U3AVhcVodWXU"
      },
      "source": [
        "# **Practice Quiz: Regular Expressions**\r\n",
        "\r\n",
        "\r\n",
        "---\r\n",
        "\r\n"
      ]
    },
    {
      "cell_type": "markdown",
      "metadata": {
        "id": "cW26w3nYdely"
      },
      "source": [
        "#### 1. When using regular expressions, which of the following expressions uses a reserved character that can represent any single character?"
      ]
    },
    {
      "cell_type": "markdown",
      "metadata": {
        "id": "c2z7MnDPR8zg"
      },
      "source": [
        "\r\n",
        "`re.findall(f.n, text)`. The dot (.) represents any single character."
      ]
    },
    {
      "cell_type": "markdown",
      "metadata": {
        "id": "bAaDaynijIFL"
      },
      "source": [
        "#### 2. Which of the following is NOT a function of the Python regex module?"
      ]
    },
    {
      "cell_type": "markdown",
      "metadata": {
        "id": "E27RqXy-SCpO"
      },
      "source": [
        "`re.grep()`. The grep command utilizes regular expressions on Linux, but is not a part of the standard re Python module."
      ]
    },
    {
      "cell_type": "markdown",
      "metadata": {
        "id": "XvoEo5i-jQGC"
      },
      "source": [
        "#### 3. The circumflex [^] and the dollar sign [$] are anchor characters. What do these anchor characters do in regex?"
      ]
    },
    {
      "cell_type": "markdown",
      "metadata": {
        "id": "r5V-KodHjRcm"
      },
      "source": [
        "`Match the start and end of a line`. The circumflex and the dollar sign specifically match the start and end of a line."
      ]
    },
    {
      "cell_type": "markdown",
      "metadata": {
        "id": "lukL170ojmHO"
      },
      "source": [
        "#### 4. When using regex, some characters represent particular types of characters. Some examples are the dollar sign, the circumflex, and the dot wildcard. What are these characters collectively known as?"
      ]
    },
    {
      "cell_type": "markdown",
      "metadata": {
        "id": "v0DlzvvprLXT"
      },
      "source": [
        "`Special characters`. Special characters, sometimes called meta characters, give special meaning to the regular expression search syntax."
      ]
    },
    {
      "cell_type": "markdown",
      "metadata": {
        "id": "IhtrNGOhjsd_"
      },
      "source": [
        "#### 5. What is grep?"
      ]
    },
    {
      "cell_type": "markdown",
      "metadata": {
        "id": "y0aWRsHkrqnm"
      },
      "source": [
        "`A command-line regex tool`. The grep command is used to scan files for a string of characters occurring that fits a specified sequence."
      ]
    }
  ]
}