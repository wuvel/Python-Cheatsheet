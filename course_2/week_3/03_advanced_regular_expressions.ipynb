{
  "nbformat": 4,
  "nbformat_minor": 0,
  "metadata": {
    "colab": {
      "name": "Untitled0.ipynb",
      "provenance": []
    },
    "kernelspec": {
      "name": "python3",
      "display_name": "Python 3"
    }
  },
  "cells": [
    {
      "cell_type": "markdown",
      "metadata": {
        "id": "U3AVhcVodWXU"
      },
      "source": [
        "# **Practice Quiz: Advanced Regular Expressions**\r\n",
        "\r\n",
        "\r\n",
        "---\r\n",
        "\r\n"
      ]
    },
    {
      "cell_type": "markdown",
      "metadata": {
        "id": "cW26w3nYdely"
      },
      "source": [
        "#### 1. We're working with a CSV file, which contains employee information. Each record has a name field, followed by a phone number field, and a role field. The phone number field contains U.S. phone numbers, and needs to be modified to the international format, with \"+1-\" in front of the phone number. Fill in the regular expression, using groups, to use the transform_record function to do that."
      ]
    },
    {
      "cell_type": "code",
      "metadata": {
        "colab": {
          "base_uri": "https://localhost:8080/"
        },
        "id": "ldJgGsDzuBf5",
        "outputId": "f81e787d-a220-48d1-ce4b-eb6a3596b02a"
      },
      "source": [
        "import re\r\n",
        "def transform_record(record):\r\n",
        "  new_record = re.sub(r'([0-9-]+)', r'+1-\\1', record)\r\n",
        "  return new_record\r\n",
        "\r\n",
        "print(transform_record(\"Sabrina Green,802-867-5309,System Administrator\")) \r\n",
        "# Sabrina Green,+1-802-867-5309,System Administrator\r\n",
        "\r\n",
        "print(transform_record(\"Eli Jones,684-3481127,IT specialist\")) \r\n",
        "# Eli Jones,+1-684-3481127,IT specialist\r\n",
        "\r\n",
        "print(transform_record(\"Melody Daniels,846-687-7436,Programmer\")) \r\n",
        "# Melody Daniels,+1-846-687-7436,Programmer\r\n",
        "\r\n",
        "print(transform_record(\"Charlie Rivera,698-746-3357,Web Developer\")) \r\n",
        "# Charlie Rivera,+1-698-746-3357,Web Developer"
      ],
      "execution_count": 1,
      "outputs": [
        {
          "output_type": "stream",
          "text": [
            "Sabrina Green,+1-802-867-5309,System Administrator\n",
            "Eli Jones,+1-684-3481127,IT specialist\n",
            "Melody Daniels,+1-846-687-7436,Programmer\n",
            "Charlie Rivera,+1-698-746-3357,Web Developer\n"
          ],
          "name": "stdout"
        }
      ]
    },
    {
      "cell_type": "markdown",
      "metadata": {
        "id": "bAaDaynijIFL"
      },
      "source": [
        "#### 2. The multi_vowel_words function returns all words with 3 or more consecutive vowels (a, e, i, o, u). Fill in the regular expression to do that."
      ]
    },
    {
      "cell_type": "code",
      "metadata": {
        "colab": {
          "base_uri": "https://localhost:8080/"
        },
        "id": "x5bBSIHTuJQ4",
        "outputId": "423cbc72-fb2c-4e7f-dcf7-7af19fad9134"
      },
      "source": [
        "import re\r\n",
        "def multi_vowel_words(text):\r\n",
        "  pattern = r'\\w+[aieou]{3,}\\w+'\r\n",
        "  result = re.findall(pattern, text)\r\n",
        "  return result\r\n",
        "\r\n",
        "print(multi_vowel_words(\"Life is beautiful\")) \r\n",
        "# ['beautiful']\r\n",
        "\r\n",
        "print(multi_vowel_words(\"Obviously, the queen is courageous and gracious.\")) \r\n",
        "# ['Obviously', 'queen', 'courageous', 'gracious']\r\n",
        "\r\n",
        "print(multi_vowel_words(\"The rambunctious children had to sit quietly and await their delicious dinner.\")) \r\n",
        "# ['rambunctious', 'quietly', 'delicious']\r\n",
        "\r\n",
        "print(multi_vowel_words(\"The order of a data queue is First In First Out (FIFO)\")) \r\n",
        "# ['queue']\r\n",
        "\r\n",
        "print(multi_vowel_words(\"Hello world!\")) \r\n",
        "# []"
      ],
      "execution_count": 2,
      "outputs": [
        {
          "output_type": "stream",
          "text": [
            "['beautiful']\n",
            "['Obviously', 'queen', 'courageous', 'gracious']\n",
            "['rambunctious', 'quietly', 'delicious']\n",
            "['queue']\n",
            "[]\n"
          ],
          "name": "stdout"
        }
      ]
    },
    {
      "cell_type": "markdown",
      "metadata": {
        "id": "XvoEo5i-jQGC"
      },
      "source": [
        "#### 3. When capturing regex groups, what datatype does the groups method return?"
      ]
    },
    {
      "cell_type": "markdown",
      "metadata": {
        "id": "n4q_oXWnw41j"
      },
      "source": [
        "`A Tuple`. Because a tupleis returned, we can access each index individually."
      ]
    },
    {
      "cell_type": "markdown",
      "metadata": {
        "id": "lukL170ojmHO"
      },
      "source": [
        "#### 4. The transform_comments function converts comments in a Python script into those usable by a C compiler. This means looking for text that begins with a hash mark (#) and replacing it with double slashes (//), which is the C single-line comment indicator. For the purpose of this exercise, we'll ignore the possibility of a hash mark embedded inside of a Python command, and assume that it's only used to indicate a comment. We also want to treat repetitive hash marks (##), (###), etc., as a single comment indicator, to be replaced with just (//) and not (#//) or (//#). Fill in the parameters of the substitution method to complete this function:"
      ]
    },
    {
      "cell_type": "code",
      "metadata": {
        "colab": {
          "base_uri": "https://localhost:8080/"
        },
        "id": "7UNnnfz-w-SV",
        "outputId": "3b677e4b-0541-4ac5-da7b-f40a342d44d4"
      },
      "source": [
        "import re\r\n",
        "def transform_comments(line_of_code):\r\n",
        "  result = re.sub(r'[#]+', r'//', line_of_code)\r\n",
        "  return result\r\n",
        "\r\n",
        "print(transform_comments(\"### Start of program\")) \r\n",
        "# Should be \"// Start of program\"\r\n",
        "print(transform_comments(\"  number = 0   ## Initialize the variable\")) \r\n",
        "# Should be \"  number = 0   // Initialize the variable\"\r\n",
        "print(transform_comments(\"  number += 1   # Increment the variable\")) \r\n",
        "# Should be \"  number += 1   // Increment the variable\"\r\n",
        "print(transform_comments(\"  return(number)\")) \r\n",
        "# Should be \"  return(number)\""
      ],
      "execution_count": 3,
      "outputs": [
        {
          "output_type": "stream",
          "text": [
            "// Start of program\n",
            "  number = 0   // Initialize the variable\n",
            "  number += 1   // Increment the variable\n",
            "  return(number)\n"
          ],
          "name": "stdout"
        }
      ]
    },
    {
      "cell_type": "markdown",
      "metadata": {
        "id": "IhtrNGOhjsd_"
      },
      "source": [
        "#### 5. The convert_phone_number function checks for a U.S. phone number format: XXX-XXX-XXXX (3 digits followed by a dash, 3 more digits followed by a dash, and 4 digits), and converts it to a more formal format that looks like this: (XXX) XXX-XXXX. Fill in the regular expression to complete this function."
      ]
    },
    {
      "cell_type": "code",
      "metadata": {
        "colab": {
          "base_uri": "https://localhost:8080/"
        },
        "id": "JUc-83F9xDJR",
        "outputId": "a6fb2f14-bdda-4397-8134-bb720f0a5767"
      },
      "source": [
        "import re\r\n",
        "def convert_phone_number(phone):\r\n",
        "  result = re.sub(r'\\b(\\d{3})\\-(\\d{3}\\-\\d{4}\\b)', r'(\\1) \\2', phone)\r\n",
        "  return result\r\n",
        "\r\n",
        "print(convert_phone_number(\"My number is 212-345-9999.\")) # My number is (212) 345-9999.\r\n",
        "print(convert_phone_number(\"Please call 888-555-1234\")) # Please call (888) 555-1234\r\n",
        "print(convert_phone_number(\"123-123-12345\")) # 123-123-12345\r\n",
        "print(convert_phone_number(\"Phone number of Buckingham Palace is +44 303 123 7300\")) # Phone number of Buckingham Palace is +44 303 123 7300"
      ],
      "execution_count": 4,
      "outputs": [
        {
          "output_type": "stream",
          "text": [
            "My number is (212) 345-9999.\n",
            "Please call (888) 555-1234\n",
            "123-123-12345\n",
            "Phone number of Buckingham Palace is +44 303 123 7300\n"
          ],
          "name": "stdout"
        }
      ]
    }
  ]
}