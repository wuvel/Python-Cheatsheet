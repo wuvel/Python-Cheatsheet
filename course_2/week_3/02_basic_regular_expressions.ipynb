{
  "nbformat": 4,
  "nbformat_minor": 0,
  "metadata": {
    "colab": {
      "name": "Untitled0.ipynb",
      "provenance": []
    },
    "kernelspec": {
      "name": "python3",
      "display_name": "Python 3"
    }
  },
  "cells": [
    {
      "cell_type": "markdown",
      "metadata": {
        "id": "U3AVhcVodWXU"
      },
      "source": [
        "# **Practice Quiz: Basic Regular Expressions**\r\n",
        "\r\n",
        "\r\n",
        "---\r\n",
        "\r\n"
      ]
    },
    {
      "cell_type": "markdown",
      "metadata": {
        "id": "cW26w3nYdely"
      },
      "source": [
        "#### 1. The check_web_address function checks if the text passed qualifies as a top-level web address, meaning that it contains alphanumeric characters (which includes letters, numbers, and underscores), as well as periods, dashes, and a plus sign, followed by a period and a character-only top-level domain such as \".com\", \".info\", \".edu\", etc. Fill in the regular expression to do that, using escape characters, wildcards, repetition qualifiers, beginning and end-of-line characters, and character classes."
      ]
    },
    {
      "cell_type": "code",
      "metadata": {
        "colab": {
          "base_uri": "https://localhost:8080/"
        },
        "id": "ldJgGsDzuBf5",
        "outputId": "66aa92b1-b334-490b-8d74-5abc256d8c80"
      },
      "source": [
        "import re\r\n",
        "def check_web_address(text):\r\n",
        "  pattern = '[\\w.\\-+]*\\.[a-zA-Z]+$'\r\n",
        "  result = re.search(pattern, text)\r\n",
        "  return result != None\r\n",
        "\r\n",
        "print(check_web_address(\"gmail.com\")) # True\r\n",
        "print(check_web_address(\"www@google\")) # False\r\n",
        "print(check_web_address(\"www.Coursera.org\")) # True\r\n",
        "print(check_web_address(\"web-address.com/homepage\")) # False\r\n",
        "print(check_web_address(\"My_Favorite-Blog.US\")) # True"
      ],
      "execution_count": 1,
      "outputs": [
        {
          "output_type": "stream",
          "text": [
            "True\n",
            "False\n",
            "True\n",
            "False\n",
            "True\n"
          ],
          "name": "stdout"
        }
      ]
    },
    {
      "cell_type": "markdown",
      "metadata": {
        "id": "bAaDaynijIFL"
      },
      "source": [
        "#### 2. The check_time function checks for the time format of a 12-hour clock, as follows: the hour is between 1 and 12, with no leading zero, followed by a colon, then minutes between 00 and 59, then an optional space, and then AM or PM, in upper or lower case. Fill in the regular expression to do that. How many of the concepts that you just learned can you use here?"
      ]
    },
    {
      "cell_type": "code",
      "metadata": {
        "colab": {
          "base_uri": "https://localhost:8080/"
        },
        "id": "x5bBSIHTuJQ4",
        "outputId": "759a0878-abcc-4213-aa02-1e6b7c163455"
      },
      "source": [
        "import re\r\n",
        "def check_time(text):\r\n",
        "  pattern = '[0-9]+\\:[0-5][0-9]+[ AM|PM|am|pm]'\r\n",
        "  result = re.search(pattern, text)\r\n",
        "  return result != None\r\n",
        "\r\n",
        "print(check_time(\"12:45pm\")) # True\r\n",
        "print(check_time(\"9:59 AM\")) # True\r\n",
        "print(check_time(\"6:60am\")) # False\r\n",
        "print(check_time(\"five o'clock\")) # False"
      ],
      "execution_count": 2,
      "outputs": [
        {
          "output_type": "stream",
          "text": [
            "True\n",
            "True\n",
            "False\n",
            "False\n"
          ],
          "name": "stdout"
        }
      ]
    },
    {
      "cell_type": "markdown",
      "metadata": {
        "id": "XvoEo5i-jQGC"
      },
      "source": [
        "#### 3. The contains_acronym function checks the text for the presence of 2 or more characters or digits surrounded by parentheses, with at least the first character in uppercase (if it's a letter), returning True if the condition is met, or False otherwise. For example, \"Instant messaging (IM) is a set of communication technologies used for text-based communication\" should return True since (IM) satisfies the match conditions.\" Fill in the regular expression in this function: "
      ]
    },
    {
      "cell_type": "code",
      "metadata": {
        "colab": {
          "base_uri": "https://localhost:8080/"
        },
        "id": "fPGsCOk_uPF4",
        "outputId": "045068b8-f395-4398-84ec-4661a01fdfea"
      },
      "source": [
        "import re\r\n",
        "def contains_acronym(text):\r\n",
        "  pattern = '\\([A-Z0-9][a-zA-z0-9]+\\)'\r\n",
        "  result = re.search(pattern, text)\r\n",
        "  return result != None\r\n",
        "\r\n",
        "print(contains_acronym(\"Instant messaging (IM) is a set of communication technologies used for text-based communication\")) # True\r\n",
        "print(contains_acronym(\"American Standard Code for Information Interchange (ASCII) is a character encoding standard for electronic communication\")) # True\r\n",
        "print(contains_acronym(\"Please do NOT enter without permission!\")) # False\r\n",
        "print(contains_acronym(\"PostScript is a fourth-generation programming language (4GL)\")) # True\r\n",
        "print(contains_acronym(\"Have fun using a self-contained underwater breathing apparatus (Scuba)!\")) # True"
      ],
      "execution_count": 3,
      "outputs": [
        {
          "output_type": "stream",
          "text": [
            "True\n",
            "True\n",
            "False\n",
            "True\n",
            "True\n"
          ],
          "name": "stdout"
        }
      ]
    },
    {
      "cell_type": "markdown",
      "metadata": {
        "id": "lukL170ojmHO"
      },
      "source": [
        "#### 4. What does the \"r\" before the pattern string in re.search(r\"Py.*n\", sample.txt) indicate?"
      ]
    },
    {
      "cell_type": "markdown",
      "metadata": {
        "id": "v0DlzvvprLXT"
      },
      "source": [
        "`Raw strings`. \"Raw\" strings just means the Python interpreter won't try to interpret any special characters and, instead, will just pass the string to the function as it is. "
      ]
    },
    {
      "cell_type": "markdown",
      "metadata": {
        "id": "IhtrNGOhjsd_"
      },
      "source": [
        "#### 5. Matches one or more occurrences of the character before it"
      ]
    },
    {
      "cell_type": "markdown",
      "metadata": {
        "id": "y0aWRsHkrqnm"
      },
      "source": [
        "`The plus character [+], matches **one or more** occurrences of the character that comes before it. `"
      ]
    },
    {
      "cell_type": "markdown",
      "metadata": {
        "id": "FegdpIrSufbJ"
      },
      "source": [
        "#### 6. Fill in the code to check if the text passed includes a possible U.S. zip code, formatted as follows: exactly 5 digits, and sometimes, but not always, followed by a dash with 4 more digits. The zip code needs to be preceded by at least one space, and cannot be at the start of the text."
      ]
    },
    {
      "cell_type": "code",
      "metadata": {
        "colab": {
          "base_uri": "https://localhost:8080/"
        },
        "id": "MZJAVZF-ui2-",
        "outputId": "81c255d3-7f23-4995-e1bf-aabff0a7169a"
      },
      "source": [
        "import re\r\n",
        "def check_zip_code (text):\r\n",
        "  result = re.search(r\"[ ][0-9][0-9][0-9][0-9]+|[ ][0-9]+\\-[0-9]+\", text)\r\n",
        "  return result != None\r\n",
        "\r\n",
        "print(check_zip_code(\"The zip codes for New York are 10001 thru 11104.\")) # True\r\n",
        "print(check_zip_code(\"90210 is a TV show\")) # False\r\n",
        "print(check_zip_code(\"Their address is: 123 Main Street, Anytown, AZ 85258-0001.\")) # True\r\n",
        "print(check_zip_code(\"The Parliament of Canada is at 111 Wellington St, Ottawa, ON K1A0A9.\")) # False"
      ],
      "execution_count": 4,
      "outputs": [
        {
          "output_type": "stream",
          "text": [
            "True\n",
            "False\n",
            "True\n",
            "False\n"
          ],
          "name": "stdout"
        }
      ]
    }
  ]
}